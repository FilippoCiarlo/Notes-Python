{
 "cells": [
  {
   "cell_type": "markdown",
   "id": "ee3ce804-ea6b-4495-a7da-ec5a254e2d71",
   "metadata": {},
   "source": [
    "# Python <a id='0'></a>\n",
    "1. #### **[Struttura Lessicale](#1)**\n",
    "2. #### **[Charset - Tokens](#2)**\n",
    "3. #### **[Tipi di Dato](#3)**\n",
    "    1. **[Variabili](#3.1)**\n",
    "    2. **[Numeri](#3.2)**\n",
    "    3. **[<code>None</code> - Bool](#3.3)**\n",
    "        1. [<code>None</code>](#3.3.1)\n",
    "        2. [Bool](#3.3.2)\n",
    "    4. **[Stringhe](#3.4)**\n",
    "        1. [Funzione <code>print()</code>](#3.4.1)\n",
    "        2. [Slicing](#3.4.2)\n",
    "4. #### **[Operatori](#4)**\n",
    "    1. **[Operatori Aritmetici](#4.1)**\n",
    "    2. **[Operatori di Assegnamento](#4.2)**\n",
    "    3. **[Operatori di Confronto](#4.3)**\n",
    "    4. **[Operatori Logici](#4.4)**\n",
    "    5. **[Operatori di Identità](#4.5)**\n",
    "    6. **[Operatori di Appartenenza](#4.6)**  \n",
    "5. #### **[Dichiarazioni Condizionali](#5)**\n",
    "    1. **[Loop](#5.1)**\n",
    "        1. [<code>while</code> Loop](#5.1.1)\n",
    "        2. [<code>for</code> Loop](#5.1.2)\n",
    "    2. **[<code>break</code> - <code>continue</code>](#5.2)**\n",
    "        1. [<code>break</code>](#5.2.1)\n",
    "        2. [<code>continue</code>](#5.2.2)\n",
    "6. #### **[Exception Handling](#6)**\n",
    "    1. **[<code>else</code>](#6.1)**\n",
    "    2. **[<code>finally</code>](#6.2)**\n",
    "    3. **[<code>assert</code>](#6.3)**\n",
    "    4. **[<code>raise</code>](#6.4)**\n",
    "7. #### **[Esercizi](#7)**\n",
    "    1. **[Esercizio](#7.1)**\n",
    "    2. **[Esercizio](#7.2)**\n",
    "    3. **[Esercizio](#7.3)**\n",
    "    4. **[Esercizio](#7.4)**\n",
    "    5. **[Esercizio](#7.5)**\n",
    "    6. **[Esercizio](#7.6)**\n",
    "    7. **[Esercizio](#7.7)**\n",
    "    8. **[Esercizio](#7.8)**\n",
    "8. #### **[Context Manager](#8)**\n",
    "9. #### **[Moduli](#9)**\n",
    "    1. **[Metodi - Funzioni](#9.1)**\n",
    "10. #### **[Strutture Dati](#10)**\n",
    "    1. **[Liste](#10.1)**\n",
    "        1. [Slicing](#10.1.1)\n",
    "        2. [Metodi per le Liste](#10.1.2)\n",
    "            1. [<code>.append()</code>](#10.1.2.1)\n",
    "            2. [<code>.count()</code>](#10.1.2.2)\n",
    "            3. [<code>.index()</code>](#10.1.2.3)\n",
    "            4. [<code>.insert()</code>](#10.1.2.4)\n",
    "            5. [<code>.len()</code>](#10.1.2.5)\n",
    "            6. [<code>.pop()</code>](#10.1.2.6)\n",
    "    2. **[Tuple](#10.2)**\n",
    "    3. **[Set](#10.3)**\n",
    "        1. [Metodi per i Set](#10.3.1)\n",
    "            1. [<code>.add()</code>](#10.3.1.1)\n",
    "            2. [<code>.remove()</code>](#10.3.1.2)\n",
    "            3. [<code>.discard()</code>](#10.3.1.3)\n",
    "            4. [Altri metodi](#10.3.1.4)\n",
    "    4. **[Dizionari](#10.4)**\n",
    "        1. [Inserimento](#10.4.1)\n",
    "        2. [Cancellazione](#10.4.2)\n",
    "        4. [<code>.fromkeys()</code>](#10.4.3)\n",
    "        5. [<code>.setdefault()</code>](#10.4.4)\n",
    "11. #### **[Copia](#11)**"
   ]
  },
  {
   "cell_type": "markdown",
   "id": "652de911-a0ea-4212-b534-01541ff1e9e5",
   "metadata": {},
   "source": [
    "---\n",
    "## Struttura Lessicale <a id='1'></a>\n",
    "La fine di una linea delimita la fine di uno statement. Se lo statement è più lungo di 80 caratteri utilizzo backslash \n",
    "<code> \\ </code> per continuare in una nuova linea. L’apertura di parentesi <code> ( [ { </code> determinano la fine dello statement solo alla loro chiusura (eventuali nuove linee vengono considerate un’unica linea logica senza l’utilizzo del backslash).</br>\n",
    "\n",
    "Python usa l’indentazione per esprimere la struttura dei blocchi di un programma, quindi, un blocco è un insieme di linee contigue tutte indentate della stessa quantità.</br>\n",
    "\n",
    "<div class=\"alert alert-warning\">\n",
    "    Nell’indentazione è bene non mischiare spazi e tab, è raccomandato l’utilizzo di 4 spazi, gli IDE di solito traducono tab in 4 spazi.\n",
    "</div>\n",
    "---- &#8702; 4 spazi\n"
   ]
  },
  {
   "cell_type": "markdown",
   "id": "46525206-831c-445c-86ec-02c17872df43",
   "metadata": {},
   "source": [
    "---\n",
    "## Charset - Tokens <a id='2'></a>\n",
    "\n",
    "In Python 3 i file sorgenti sono “encodati” in **UTF-8**. L’encoding è un problema tipico soprattutto quando si lavora su file in ambiente Windows, dove l’encoding di default è **iso-8859-1**.</br>\n",
    "\n",
    "In Python ogni linea logica è una sequenza di componenti lessicali noti come tokens, questi sono *identifiers, keywords, operators, delimiters, literals*.\n",
    "\n",
    "- **indentifiers:**\n",
    "    </br>nome usato per speciﬁcare una variabile, funzione, classe, modulo o altro oggetto. Inizia con una lettera o un underscore <code>_</code> seguito da 0 o più lettere, underscore o cifre; **_Case matter!_**\n",
    "\n",
    "- **keywords:**\n",
    "    </br>identiﬁcatori riservati per uso sintattico \n",
    "    <code>and, as, assert, break, class, continue, def, del, elif, else, False, ﬁnally, for, from, global, if, import, in, is, lambda, None, nonlocal, not, or, pass, raise, return, True, try, while, with, yield</code>\n",
    "\n",
    "- **operatos**\n",
    "    </br><code> + - * / % ** // << >> & | ^ ~ < <= > >= <> != ==</code>\n",
    "\n",
    "- **delimiters**\n",
    "    </br><code> ( ) [ ] { } , : . ` = ; @ += -= *= /= //= %= &= |= ^= >>= <<= **= </code>\n",
    "    </br><code> ' </code> e <code> \" </code> circondano *literals* di tipo stringa\n",
    "    </br><code> # </code> fuori da una stringa inizia un commento\n",
    "    </br><code> / </code> alla ﬁne di una linea ﬁsica unisce la successiva in un’unica linea logica\n",
    "    \n",
    "- **literals**\n",
    "    </br>In un programma si tratta della denotazione di un dato (*numero, string, contenitore*)\n",
    "    "
   ]
  },
  {
   "cell_type": "code",
   "execution_count": 1,
   "id": "ffefc212-c643-4e0a-9f4a-f13254527b46",
   "metadata": {},
   "outputs": [
    {
     "data": {
      "text/plain": [
       "42"
      ]
     },
     "execution_count": 1,
     "metadata": {},
     "output_type": "execute_result"
    }
   ],
   "source": [
    "42 # Integer literal"
   ]
  },
  {
   "cell_type": "code",
   "execution_count": 2,
   "id": "52086d9f-4dc9-4dd3-b5ac-b6ade4c4a9b1",
   "metadata": {},
   "outputs": [
    {
     "data": {
      "text/plain": [
       "1j"
      ]
     },
     "execution_count": 2,
     "metadata": {},
     "output_type": "execute_result"
    }
   ],
   "source": [
    "1.0j # Imaginary literal"
   ]
  },
  {
   "cell_type": "code",
   "execution_count": 3,
   "id": "fac5fb83-af5f-42ea-ad14-a0d994125a87",
   "metadata": {},
   "outputs": [
    {
     "data": {
      "text/plain": [
       "' Good\\n\\nnight'"
      ]
     },
     "execution_count": 3,
     "metadata": {},
     "output_type": "execute_result"
    }
   ],
   "source": [
    "\"\"\" Good\n",
    "...\n",
    "night\"\"\" # Triple-quoted string level"
   ]
  },
  {
   "cell_type": "code",
   "execution_count": 4,
   "id": "0a0055e6-ecb1-46f7-9084-3d0f6552e0c1",
   "metadata": {},
   "outputs": [
    {
     "data": {
      "text/plain": [
       "[1, 2, 3]"
      ]
     },
     "execution_count": 4,
     "metadata": {},
     "output_type": "execute_result"
    }
   ],
   "source": [
    "[1, 2, 3] #list"
   ]
  },
  {
   "cell_type": "markdown",
   "id": "1ea99aea-2ae3-4a02-bd26-b5ecdc087d3e",
   "metadata": {},
   "source": [
    "---\n",
    "## Tipi di Dato <a id='3'></a>\n",
    "### Variabili <a id='3.1'></a>\n",
    "Python è object oriented e con tipizzazione dinamica delle variabili (queste sono però strettamente tipizzate). Non è necessario dichiarare le variabili prima di usarle né dichiarare il loro tipo. Ogni variabile in Python è un’istanza di una classe che si può assegnare a un identificatore.\n",
    "\n",
    "<code>my_var = 42</code>\n",
    "</br><code>my_var</code> &#8702; identificatore\n",
    "</br><code>42</code> &#8702; istanza della classe **int**"
   ]
  },
  {
   "cell_type": "code",
   "execution_count": 5,
   "id": "4ea01c44-3d93-423d-8296-f66957739890",
   "metadata": {},
   "outputs": [],
   "source": [
    "my_var = 42"
   ]
  },
  {
   "cell_type": "markdown",
   "id": "9724f647-38d3-46d1-8cb8-894761d3984a",
   "metadata": {},
   "source": [
    "### Numeri <a id='3.2'></a>\n",
    "I principali *“tipi”* di numero che Python supporta sono numeri interi e numeri in virgola mobile (supporta anche i numeri complessi).\n",
    "</br>La built-in function <code>type()</code> ritorna il tipo di oggetto."
   ]
  },
  {
   "cell_type": "code",
   "execution_count": 6,
   "id": "dffb7d26-0b99-460f-8310-ccee0a74a57a",
   "metadata": {},
   "outputs": [
    {
     "data": {
      "text/plain": [
       "int"
      ]
     },
     "execution_count": 6,
     "metadata": {},
     "output_type": "execute_result"
    }
   ],
   "source": [
    "type(3) # Check istanza"
   ]
  },
  {
   "cell_type": "code",
   "execution_count": 7,
   "id": "f32fb140-986a-41ae-a2a7-e565e565234c",
   "metadata": {},
   "outputs": [
    {
     "data": {
      "text/plain": [
       "int"
      ]
     },
     "execution_count": 7,
     "metadata": {},
     "output_type": "execute_result"
    }
   ],
   "source": [
    "x = 3\n",
    "type(x) # Check istanza assegnata a identificatore"
   ]
  },
  {
   "cell_type": "code",
   "execution_count": 8,
   "id": "547268e0-bfad-4ad8-a642-252db06fd9bd",
   "metadata": {},
   "outputs": [
    {
     "data": {
      "text/plain": [
       "int"
      ]
     },
     "execution_count": 8,
     "metadata": {},
     "output_type": "execute_result"
    }
   ],
   "source": [
    "y = int('3')\n",
    "type(y) # Check istanza creata con costruttore"
   ]
  },
  {
   "cell_type": "code",
   "execution_count": 9,
   "id": "e2ac38c5-e0dc-45bc-a788-0f5c1628194d",
   "metadata": {},
   "outputs": [
    {
     "data": {
      "text/plain": [
       "float"
      ]
     },
     "execution_count": 9,
     "metadata": {},
     "output_type": "execute_result"
    }
   ],
   "source": [
    "type(1.5) # Check istanza"
   ]
  },
  {
   "cell_type": "code",
   "execution_count": 10,
   "id": "090d97ae-79c1-418e-a658-b0c60f18a9c6",
   "metadata": {},
   "outputs": [
    {
     "data": {
      "text/plain": [
       "float"
      ]
     },
     "execution_count": 10,
     "metadata": {},
     "output_type": "execute_result"
    }
   ],
   "source": [
    "x = 1.5\n",
    "type(x) # Check istanza assegnata a identificatore"
   ]
  },
  {
   "cell_type": "code",
   "execution_count": 11,
   "id": "a340b406-93da-4f29-8419-ea4e5c8097f4",
   "metadata": {},
   "outputs": [
    {
     "data": {
      "text/plain": [
       "float"
      ]
     },
     "execution_count": 11,
     "metadata": {},
     "output_type": "execute_result"
    }
   ],
   "source": [
    "y = float('1.5')\n",
    "type(y) # Check istanza creata con costruttore"
   ]
  },
  {
   "cell_type": "markdown",
   "id": "e6ac5d16-4c44-4221-8615-6926457befa8",
   "metadata": {},
   "source": [
    "L'interprete si comporta come una semplice **calcolatrice**, è possibile scrivere un'espressione e l’interprete restituirà il valore della stessa. La sintassi dell'espressione è semplice e gli operatori <code>+, -, *, /</code> funzionano esattamente come nella maggior parte degli altri linguaggi; \n",
    "</br>le parentesi <code>( )</code> possono essere utilizzate per il raggruppamento.\n",
    "\n",
    "<div class=\"alert alert-warning\">\n",
    "   Python rispetta l'ordine convenzionale delle operazioni.\n",
    "</div>"
   ]
  },
  {
   "cell_type": "code",
   "execution_count": 12,
   "id": "8a328c06-5bb4-4917-875b-063a88dc1017",
   "metadata": {},
   "outputs": [
    {
     "data": {
      "text/plain": [
       "4"
      ]
     },
     "execution_count": 12,
     "metadata": {},
     "output_type": "execute_result"
    }
   ],
   "source": [
    "2+2"
   ]
  },
  {
   "cell_type": "code",
   "execution_count": 13,
   "id": "5b204b39-1ab0-4140-ae76-35e710fa3775",
   "metadata": {},
   "outputs": [
    {
     "data": {
      "text/plain": [
       "20"
      ]
     },
     "execution_count": 13,
     "metadata": {},
     "output_type": "execute_result"
    }
   ],
   "source": [
    "50 - 5 * 6"
   ]
  },
  {
   "cell_type": "code",
   "execution_count": 14,
   "id": "ffe8a356-3c6a-44dd-87f2-4a326a75cccb",
   "metadata": {},
   "outputs": [
    {
     "data": {
      "text/plain": [
       "3.3333333333333335"
      ]
     },
     "execution_count": 14,
     "metadata": {},
     "output_type": "execute_result"
    }
   ],
   "source": [
    "(50 - 5 * 6) / 6"
   ]
  },
  {
   "cell_type": "code",
   "execution_count": 15,
   "id": "aedfb5e2-6088-4f0e-86f4-14200aeab45a",
   "metadata": {},
   "outputs": [
    {
     "data": {
      "text/plain": [
       "2.0"
      ]
     },
     "execution_count": 15,
     "metadata": {},
     "output_type": "execute_result"
    }
   ],
   "source": [
    "4 / 2 # La divisione ritorna sempre il numero in virgola mobile"
   ]
  },
  {
   "cell_type": "markdown",
   "id": "d00426d6-2f16-4193-9223-596f88b4689f",
   "metadata": {},
   "source": [
    "### <code>None</code> - Bool <a id='3.3'></a>\n",
    "\n",
    "#### <code>None</code> <a id='3.3.1'></a>\n",
    "None è l’unica istanza della classe *NoneType*, può essere utilizzato come valore nullo da assegnare ad un identiﬁcatore (in altri linguaggi si utilizza la keyword </code>null</code>) ed è il valore restituito di default dalle funzioni"
   ]
  },
  {
   "cell_type": "code",
   "execution_count": 16,
   "id": "a2682905-dfc5-4a48-be7b-82c4d9793211",
   "metadata": {},
   "outputs": [
    {
     "data": {
      "text/plain": [
       "NoneType"
      ]
     },
     "execution_count": 16,
     "metadata": {},
     "output_type": "execute_result"
    }
   ],
   "source": [
    "x = None\n",
    "type(x)"
   ]
  },
  {
   "cell_type": "code",
   "execution_count": 17,
   "id": "2c3f78b9-0923-42e8-b943-09a424603be7",
   "metadata": {},
   "outputs": [
    {
     "name": "stdout",
     "output_type": "stream",
     "text": [
      "None\n"
     ]
    }
   ],
   "source": [
    "def no_return():\n",
    "    pass\n",
    "\n",
    "print(no_return())"
   ]
  },
  {
   "cell_type": "markdown",
   "id": "196fb239-1c56-4ef5-b320-668017573325",
   "metadata": {},
   "source": [
    "#### Bool <a id='3.3.2'></a>\n",
    "La classe *bool* viene utilizzata per manipolare i valori logici (booleani) e le uniche due istanze di quella classe sono <code>True</code> e <code>False</code>. \n",
    "    </br><code>True</code> equivale a $1$\n",
    "    </br><code>False</code> equivale a $0$"
   ]
  },
  {
   "cell_type": "code",
   "execution_count": 18,
   "id": "0a85b436-78d4-4850-ab16-eeb4ecb05835",
   "metadata": {},
   "outputs": [
    {
     "data": {
      "text/plain": [
       "bool"
      ]
     },
     "execution_count": 18,
     "metadata": {},
     "output_type": "execute_result"
    }
   ],
   "source": [
    "type(True)"
   ]
  },
  {
   "cell_type": "code",
   "execution_count": 19,
   "id": "4fc4c3d9-a7a9-4322-927c-fac7fd4352ef",
   "metadata": {},
   "outputs": [
    {
     "data": {
      "text/plain": [
       "bool"
      ]
     },
     "execution_count": 19,
     "metadata": {},
     "output_type": "execute_result"
    }
   ],
   "source": [
    "type(False)"
   ]
  },
  {
   "cell_type": "code",
   "execution_count": 20,
   "id": "3deadba9-4649-426b-b653-320fab522ebb",
   "metadata": {},
   "outputs": [
    {
     "data": {
      "text/plain": [
       "True"
      ]
     },
     "execution_count": 20,
     "metadata": {},
     "output_type": "execute_result"
    }
   ],
   "source": [
    "True == 1 and False == 0"
   ]
  },
  {
   "cell_type": "code",
   "execution_count": 21,
   "id": "8666fff8-ccb1-4489-9280-a0a457401098",
   "metadata": {},
   "outputs": [
    {
     "data": {
      "text/plain": [
       "0"
      ]
     },
     "execution_count": 21,
     "metadata": {},
     "output_type": "execute_result"
    }
   ],
   "source": [
    "(True + 3) * False"
   ]
  },
  {
   "cell_type": "markdown",
   "id": "fbc583e8-3555-4520-ad14-b972c396276b",
   "metadata": {},
   "source": [
    "### Stringhe <a id='3.4'></a>\n",
    "Le stringhe sono sequenze immutabili di caratteri testuali sulle quali è possibile iterare; queste possono essere deﬁnite indiﬀerentemente con *single quote* <code>‘ ‘</code> o con le *double quote* <code>“ “</code>. "
   ]
  },
  {
   "cell_type": "code",
   "execution_count": 22,
   "id": "50f33579-be69-4f50-aba8-5e0980ed9525",
   "metadata": {},
   "outputs": [
    {
     "data": {
      "text/plain": [
       "True"
      ]
     },
     "execution_count": 22,
     "metadata": {},
     "output_type": "execute_result"
    }
   ],
   "source": [
    "\"hello\" == 'hello' # Stessa stringa definita con single e double quote"
   ]
  },
  {
   "cell_type": "code",
   "execution_count": 23,
   "id": "7aae77f5-df2d-4b21-9bfa-334d6e04f4b7",
   "metadata": {},
   "outputs": [
    {
     "name": "stdout",
     "output_type": "stream",
     "text": [
      "hello\n"
     ]
    }
   ],
   "source": [
    "print('hello') # Funzione built-in che visualizza la stringa sul file del flusso di teso"
   ]
  },
  {
   "cell_type": "code",
   "execution_count": 24,
   "id": "f1b8224c-d739-4389-bb36-b70ae6064ed0",
   "metadata": {},
   "outputs": [
    {
     "name": "stdout",
     "output_type": "stream",
     "text": [
      "h\n",
      "e\n",
      "l\n",
      "l\n",
      "o\n"
     ]
    }
   ],
   "source": [
    "for letter in 'hello': # Iterazione su una stringa con for-loop\n",
    "    print(letter)"
   ]
  },
  {
   "cell_type": "markdown",
   "id": "1f802024-695e-43ad-8a32-53e7a2b9a104",
   "metadata": {},
   "source": [
    "#### Funzione <code>print()</code> <a id='3.4.1'></a>\n",
    "La funzione <code>print()</code> permette di stampare oggetti in output (tipicamente su schermo, ma anche su ﬁle o altri stream). \n",
    "</br>Gli oggetti inseriti nella funzione vengono convertiti in stringhe e scritti sullo stream. \n",
    "</br>È possibile inserire espressioni matematiche, variabili ed altro all’interno di print e il risultato sarà stampato."
   ]
  },
  {
   "cell_type": "code",
   "execution_count": 25,
   "id": "94eefaa3-fb52-4ff3-a8e0-c998b9b20f7f",
   "metadata": {},
   "outputs": [
    {
     "name": "stdout",
     "output_type": "stream",
     "text": [
      "Python print function\n"
     ]
    }
   ],
   "source": [
    "print(\"Python print function\") # Stampa di una stringa"
   ]
  },
  {
   "cell_type": "code",
   "execution_count": 26,
   "id": "1d67f59a-9624-435e-9f16-80f041b56d95",
   "metadata": {},
   "outputs": [
    {
     "name": "stdout",
     "output_type": "stream",
     "text": [
      "10\n"
     ]
    }
   ],
   "source": [
    "print(3+7) # Stampa del risultato di un'espressione algebrica"
   ]
  },
  {
   "cell_type": "code",
   "execution_count": 27,
   "id": "56807729-605e-4d67-9754-2dd4e6850e72",
   "metadata": {},
   "outputs": [
    {
     "name": "stdout",
     "output_type": "stream",
     "text": [
      "string\n"
     ]
    }
   ],
   "source": [
    "a = 'string'\n",
    "print(a) # Stampa del valore di una variabile"
   ]
  },
  {
   "cell_type": "markdown",
   "id": "09cbe1fe-8f74-4899-9907-6a6c0a73c392",
   "metadata": {},
   "source": [
    "<code>print()</code> ha diversi parametri, tra i più comunemente usati si deve sicuramente menzionare *end*.\n",
    ">*end* &#8702; il valore di default è <code>\\n</code> (escape sequence: new line), si può sostituire con qualsiasi stringa."
   ]
  },
  {
   "cell_type": "code",
   "execution_count": 28,
   "id": "cbec0c02-1d51-4b60-b48d-2cbe33eb817c",
   "metadata": {},
   "outputs": [
    {
     "name": "stdout",
     "output_type": "stream",
     "text": [
      "prima riga\n",
      "seconda riga \tsempre seconda riga\ttab!\n",
      "\n",
      "terza riga\t...fine terza riga\n"
     ]
    }
   ],
   "source": [
    "print(\"prima riga\")              # end = default('\\n')\n",
    "print(\"seconda riga\", end = ' ') # end = ' ', evita di creare una new line\n",
    "print(\"\\tsempre seconda riga\", end = '\\ttab!\\n') # Stampa sulla stessa riga della precedente\n",
    "print() # Nessun oggetto, stampa una new line\n",
    "print(\"terza riga\", end = \"\\t...fine terza riga\\n\")"
   ]
  },
  {
   "cell_type": "markdown",
   "id": "6906334d-fd6f-47ee-994a-b1df058b22db",
   "metadata": {},
   "source": [
    "#### Slicing <a id='3.4.2'></a>\n",
    "Python oﬀre una notazione chiamata *slicing* (to slice = aﬀettare) che permette di accedere ad una serie di elementi di una sequenza ordinata (stringa, lista, etc.) attraverso il loro *index* (indice). Il primo elemento corrispondente ha index $0$, il secondo $1$ e così via.\n",
    "\n",
    "La sintassi utilizza le parentesi quadre con i seguenti parametri: <code>[{start}: stop {: step}]</code>\n",
    "- **start** &#8702; indice di partenza *[opzionale]*, 0 di defualt.\n",
    "    </br>Es. <code>\"casa\"[:3] == \"cas\"</code>\n",
    "  \n",
    "- **stop** &#8702; indice di arrivo NON compreso, se non specificato, lo slicing arriva fino alla fine dell’oggetto.\n",
    "    </br>Es. <code>\"casa\" [2:] == \"sa\"</code>\n",
    "    \n",
    "    \n",
    "- **step** &#8702; differenza di index tra un elemento e il successivo *[opzionale]*, 1 di default (tutti gli elementi compresi tra **start** e **stop** *[non compreso]*)\n",
    "    </br>Es. <code>\"abcdefg\"[0:5:2] == \"ace\"</code>\n"
   ]
  },
  {
   "cell_type": "code",
   "execution_count": 29,
   "id": "67d82ff9-9856-4ad4-9a99-24e381e0fd5f",
   "metadata": {},
   "outputs": [
    {
     "data": {
      "text/plain": [
       "'cas'"
      ]
     },
     "execution_count": 29,
     "metadata": {},
     "output_type": "execute_result"
    }
   ],
   "source": [
    " \"casa\"[:3]"
   ]
  },
  {
   "cell_type": "code",
   "execution_count": 30,
   "id": "052e964d-fe30-4d16-8e13-e620761758eb",
   "metadata": {},
   "outputs": [
    {
     "data": {
      "text/plain": [
       "'sa'"
      ]
     },
     "execution_count": 30,
     "metadata": {},
     "output_type": "execute_result"
    }
   ],
   "source": [
    "\"casa\" [2:]"
   ]
  },
  {
   "cell_type": "code",
   "execution_count": 31,
   "id": "7e95f81d-023d-4323-8faa-9f0cf2750507",
   "metadata": {},
   "outputs": [
    {
     "data": {
      "text/plain": [
       "'ace'"
      ]
     },
     "execution_count": 31,
     "metadata": {},
     "output_type": "execute_result"
    }
   ],
   "source": [
    "\"abcdefg\"[0:5:2]"
   ]
  },
  {
   "cell_type": "markdown",
   "id": "ba093abc-b281-46c7-9da8-2cecb43a3d9a",
   "metadata": {},
   "source": [
    "##### *Esempio:*"
   ]
  },
  {
   "cell_type": "code",
   "execution_count": 32,
   "id": "df059c2f-4d8c-4397-b62b-e9afa85adfcb",
   "metadata": {},
   "outputs": [
    {
     "data": {
      "text/plain": [
       "'S'"
      ]
     },
     "execution_count": 32,
     "metadata": {},
     "output_type": "execute_result"
    }
   ],
   "source": [
    "s = \"Slicing test\"\n",
    "s[0] # Accesso ad un singolo elemento"
   ]
  },
  {
   "cell_type": "code",
   "execution_count": 33,
   "id": "7f2e50b0-f0a8-40ea-a436-0333d97b042e",
   "metadata": {},
   "outputs": [
    {
     "data": {
      "text/plain": [
       "'t'"
      ]
     },
     "execution_count": 33,
     "metadata": {},
     "output_type": "execute_result"
    }
   ],
   "source": [
    "s[-1] # Accesso ad un singolo elemento (index negativo)"
   ]
  },
  {
   "cell_type": "code",
   "execution_count": 34,
   "id": "38df2ccd-e15e-4ac7-9f93-374538d9cc01",
   "metadata": {},
   "outputs": [
    {
     "data": {
      "text/plain": [
       "'Slic'"
      ]
     },
     "execution_count": 34,
     "metadata": {},
     "output_type": "execute_result"
    }
   ],
   "source": [
    "s[:4] # Slice dall'inizio all'elemento con index 4 (non compreso)"
   ]
  },
  {
   "cell_type": "code",
   "execution_count": 35,
   "id": "e6cc99d8-b6db-4e04-b441-371de6a456ac",
   "metadata": {},
   "outputs": [
    {
     "data": {
      "text/plain": [
       "'Siigts'"
      ]
     },
     "execution_count": 35,
     "metadata": {},
     "output_type": "execute_result"
    }
   ],
   "source": [
    "s[::2] # Slice di tutti gli elemnti con index pari"
   ]
  },
  {
   "cell_type": "code",
   "execution_count": 36,
   "id": "e6c53f47-4d65-465a-9fee-4a9c643ed3df",
   "metadata": {},
   "outputs": [
    {
     "data": {
      "text/plain": [
       "'tset gnicilS'"
      ]
     },
     "execution_count": 36,
     "metadata": {},
     "output_type": "execute_result"
    }
   ],
   "source": [
    "s[::-1] # Steo negativo per scorrere l'oggetto in senso inverso"
   ]
  },
  {
   "cell_type": "markdown",
   "id": "70e96db3-e8bb-4a6a-bbc5-bf839dbefead",
   "metadata": {},
   "source": [
    "---\n",
    "## Operatori <a id='4'></a>\n",
    "* Gli **_operatori_**:\n",
    "    - sono utilizzati per eseguire operazioni su valori e variabili\n",
    "    - possono manipolare singoli oggetti e restituire un risultato\n",
    "    - sono rappresentati da parole chiave o caratteri speciali\n",
    "* Gli **_elementi_** coinvolti sono indicati come *operandi* o *arguments*.\n",
    "\n",
    "### Operatori Aritmetici <a id='4.1'></a>\n",
    "Gli operatori aritmetici sono usati con valori numerici per eseguire operazioni matematiche comuni.\n",
    "| Operatore | Nome | Esempio |\n",
    "|:----------|:-----|:--------|\n",
    "| <code>+</code> | Addizione | <code>3 + 2 = 5</code> |\n",
    "| <code>-</code> | Sottrazione | <code>3 - 2 = 1</code> |\n",
    "| <code>*</code> | Moltiplicazione | <code>3 * 2 = 6</code> |\n",
    "| <code>/</code> | Divisione | <code>3 / 2 = 1.5</code> |\n",
    "| <code>//</code> | Floor Division | <code>3 // 2 = 1</code> |\n",
    "| <code>%</code> | Modulo (restituisce il resto) | <code>3 % 2 = 1</code> |\n",
    "| <code>**</code> | Potenza | <code>3 ** 2 = 9</code> |\n",
    "\n",
    "### Operatori di Assegnamento <a id='4.2'></a>\n",
    "Gli operatori di assegnamento (*augmented assignment*) sono utilizzati per assegnare istanze agli identiﬁcatori.\n",
    "| Operatore | Nome | Esempio | Uguale a |\n",
    "|:----------|:-----|:--------|:---------|\n",
    "| <code>=</code> | Uguaglianza | <code>x = 5</code> | <code>x = 5</code>|\n",
    "| <code>+=</code> | Addizione | <code>x += 5</code> | <code>x = x + 5</code> |\n",
    "| <code>-=</code> | Sottrazione | <code>x -= 5</code> | <code>x = x - 5</code> |\n",
    "| <code>*=</code> | Moltiplicazione | <code>x *= 5</code> | <code>x = x * 5</code> |\n",
    "| <code>/=</code> | Divisione | <code>x /= 5</code> | <code>x = x / 5</code> |\n",
    "| <code>//=</code> | Floor Division | <code>x //= 5</code> | <code>x = x // 5</code> |\n",
    "| <code>%=</code> | Modulo (restituisce il resto) | <code>x %= 5</code> | <code>x = x % 5</code> |\n",
    "| <code>**=</code> | Potenza | <code>x **= 5</code> | <code>x = x ** 5</code> |\n",
    "\n",
    "### Operatori di Confronto <a id='4.3'></a>\n",
    "Gli operatori di confronto sono utilizzati per comparare due valori.\n",
    "| Operatore | Nome | Esempio |\n",
    "|:----------|:-----|:--------|\n",
    "| <code>==</code> | Uguale | <code>x == y</code> |\n",
    "| <code>!=</code> | Non uguale | <code>x != y</code> |\n",
    "| <code>></code> | Maggiore di | <code>x > y</code> |\n",
    "| <code><</code> | Minore di | <code>x < y</code> |\n",
    "| <code>>=</code> | Maggiore/Uguale | <code>x >= y</code> |\n",
    "| <code><=</code> | Minore/Uguale | <code>x <= y</code> |\n",
    "    \n",
    "A diﬀerenza di altri linguaggi, Python oﬀre la possibilità di concatenare gli operatori di confronto:\n",
    "    \n",
    "##### *Esempio:*\n",
    "Prediamo in considerazione la condizone: <code>a < b < c</code>\n",
    "</br>La sintassi più comune è: <code>a < b and b < c</code>\n",
    "</br>Python offre la possibilità di scrivere direttamente <code>a < b < c</code>."
   ]
  },
  {
   "cell_type": "code",
   "execution_count": 37,
   "id": "7a3098aa-6ae0-41d7-aeb2-92edd16f6b8e",
   "metadata": {},
   "outputs": [
    {
     "data": {
      "text/plain": [
       "True"
      ]
     },
     "execution_count": 37,
     "metadata": {},
     "output_type": "execute_result"
    }
   ],
   "source": [
    "2 < 5 and 5 < 7"
   ]
  },
  {
   "cell_type": "code",
   "execution_count": 38,
   "id": "b77fe7d4-214b-4380-94d5-d3aaa8907327",
   "metadata": {},
   "outputs": [
    {
     "data": {
      "text/plain": [
       "True"
      ]
     },
     "execution_count": 38,
     "metadata": {},
     "output_type": "execute_result"
    }
   ],
   "source": [
    "2 < 5 < 7"
   ]
  },
  {
   "cell_type": "code",
   "execution_count": 39,
   "id": "fd67af2a-4223-4d43-821a-ce21cdf53b38",
   "metadata": {},
   "outputs": [
    {
     "data": {
      "text/plain": [
       "False"
      ]
     },
     "execution_count": 39,
     "metadata": {},
     "output_type": "execute_result"
    }
   ],
   "source": [
    "2 < 5 < 4"
   ]
  },
  {
   "cell_type": "markdown",
   "id": "8e5dc3e8-f161-4170-a226-cb5000351180",
   "metadata": {},
   "source": [
    "### Operatori Logici <a id='4.4'></a>\n",
    "Gli operatori logici sono utilizzati per combinare dichiarazioni condizionali.\n",
    "| Operatore | Descrizione | Esempio |\n",
    "|:----------|:------------|:--------|\n",
    "| <code>and</code> | Ritorna <code>True</code> se entrambe le dichiarazioni sono vere | <code>x < 5 and x < 10</code> |\n",
    "| <code>or</code> | Ritorna <code>True</code> se una delle due dichiarazioni è vera | <code>x < 5 or x < 4</code> |\n",
    "| <code>not</code> | Inverte il risultato, riotrna <code>False</code> se il risultato è vero | <code>not x > 5</code> |\n",
    "\n",
    "### Operatori di Identità <a id='4.5'></a>\n",
    "Gli operatori di identità sono usati per confrontare gli oggetti, non per veriﬁcare se i valori sono uguali, ma se sono lo stesso oggetto (che occupa la stessa locazione nella memoria).\n",
    "| Operatore | Descrizione | Esempio |\n",
    "|:----------|:------------|:--------|\n",
    "| <code>is</code> | Ritorna <code>True</code> se gli oggetti confrontati SONO lo stesso oggetto | <code>x is y</code> |\n",
    "| <code>is not</code> | Ritorna <code>True</code> se gli oggetti comparati NON SONO lo stesso oggetto | <code>x is not y</code> |\n",
    "\n",
    "### Operatori di Appartenenza <a id='4.6'></a>\n",
    "Gli operatori di appartenenza controllano l’appartenenza di un oggetto ad una sequenza come una *lista*, una *stringa* o una *tupla*.\n",
    "| Operatore | Descrizione | Esempio |\n",
    "|:----------|:------------|:--------|\n",
    "| <code>in</code> | Ritorna <code>True</code> se un oggetto con un determinato valore è presente nella sequenza | <code>x in y</code> |\n",
    "| <code>not in</code> | Ritorna <code>True</code> se un oggetto con un determinato valore NON è presente nella sequenza | <code>x not in y</code>"
   ]
  },
  {
   "cell_type": "markdown",
   "id": "c3048770-da1f-45b2-828b-ffd669c8f9ad",
   "metadata": {},
   "source": [
    "---\n",
    "## Dichiarazioni Condizionali <a id='5'></a>\n",
    "I costrutti condizionali forniscono un modo per eseguire un blocco di codice scelto in base alla valutazione in fase di esecuzione di una o più espressioni booleane.\n",
    "\n",
    "<div class=\"alert alert-warning\">\n",
    "    A diﬀerenza di altri linguaggi, Python si basa su l'indentazione, usando 4 spazi, per deﬁnire i blocchi di codice.\n",
    "</div>\n",
    "\n",
    "    if condizione:\n",
    "    ----primo_blocco\n",
    "      ↳ 4 spazi\n",
    "        \n",
    "    if prima condizione:\n",
    "        primo_blocco\n",
    "    elif seconda condizione:\n",
    "        secondo_blocco\n",
    "    elif terza condizione:\n",
    "        terzo_blocco\n",
    "    else:\n",
    "        quarto_blocco\n",
    "        \n",
    "### Loop <a id='5.1'></a>\n",
    "Python utilizza due tipi di *loop* :\n",
    "* <code>while</code>\n",
    "* <code>for</code>\n",
    "\n",
    "#### <code>while</code> Loop <a id='5.1.1'></a>\n",
    "Il *while loop* esegue un blocco di codice fintanto che una condizione è vera."
   ]
  },
  {
   "cell_type": "code",
   "execution_count": 40,
   "id": "22c12124-7c4b-4820-a461-0e05bde5834a",
   "metadata": {},
   "outputs": [
    {
     "name": "stdout",
     "output_type": "stream",
     "text": [
      "1\n",
      "2\n",
      "3\n",
      "4\n",
      "5\n"
     ]
    }
   ],
   "source": [
    "i = 1\n",
    "\n",
    "while i < 6:\n",
    "    print(i)\n",
    "    i += 1 # IMPORTANTE!"
   ]
  },
  {
   "cell_type": "markdown",
   "id": "80c290f1-2c7f-4112-ab65-c0ea9261e28d",
   "metadata": {},
   "source": [
    "<div class=\"alert alert-warning\">\n",
    "    <strong>IMPORTANTE!</strong> incrementare <code>i</code> evita di creare un loop infinito.\n",
    "</div>\n",
    "\n",
    "#### <code>for</code> Loop <a id='5.1.2'></a>\n",
    "Il *for loop* è uno strumento utile per iterare su una *serie* di elementi. La sintassi del *for loop* può essere usata su qualsiasi struttura iterabile (*liste, tuple, stringhe, set, dizionari, file*).\n",
    "\n",
    "<code>primes = [2, 3, 5, 7]</code> &#8594; Struttura iterbaile (*lista*) con identificatore <code>primes</code>\n",
    "\n",
    "\n",
    "<code>for prime in primes:</code> &#8594; <code>prime</code> è l'identificatore assegnato ad ogni passaggio al rispettivo elemento\n",
    "</br><code>    print(prime)</code>\n",
    "</br>&nbsp;&nbsp;&nbsp;&nbsp;&nbsp;&nbsp;&nbsp;&nbsp;&nbsp;&nbsp;&nbsp;&nbsp;&nbsp;&nbsp;&nbsp;\n",
    "&#8627;Il blocco di codice viene eseguito una volta per ciascun elemento dell'oggetto iterabile"
   ]
  },
  {
   "cell_type": "code",
   "execution_count": 41,
   "id": "278d3927-2c38-4713-a44f-2636251f86a5",
   "metadata": {},
   "outputs": [
    {
     "name": "stdout",
     "output_type": "stream",
     "text": [
      "2\n",
      "3\n",
      "5\n",
      "7\n"
     ]
    }
   ],
   "source": [
    "primes = [2, 3, 5, 7] \n",
    "\n",
    "for prime in primes:\n",
    "    print(prime)\n",
    "    "
   ]
  },
  {
   "cell_type": "markdown",
   "id": "1174245d-684c-4bf6-9b45-f0ee8ddba50b",
   "metadata": {},
   "source": [
    "###  <code>break</code> - <code>continue</code> <a id='5.2'></a>\n",
    "\n",
    "#### <code>break</code> <a id='5.2.1'></a>\n",
    "La keyword *break* viene usata per sucire da un *for loop* o un *while loop* anche se l'iterazione sugli elementi non è finita o anche se la condizione è rispettata."
   ]
  },
  {
   "cell_type": "code",
   "execution_count": 42,
   "id": "0ed69893-03af-483c-a3d7-c554a13a4843",
   "metadata": {},
   "outputs": [
    {
     "name": "stdout",
     "output_type": "stream",
     "text": [
      "0\n",
      "1\n",
      "2\n",
      "3\n",
      "4\n"
     ]
    }
   ],
   "source": [
    "i = 0\n",
    "\n",
    "while i < 7:\n",
    "    if i == 5:\n",
    "        break\n",
    "    print(i)\n",
    "    i += 1"
   ]
  },
  {
   "cell_type": "markdown",
   "id": "e6baddb5-44fe-4415-8286-6d6a7fc51651",
   "metadata": {},
   "source": [
    "#### <code>continue</code> <a id='5.2.2'></a>\n",
    "La keyword *continue* viene usata per saltare il blocco corrente di codice e tornare alla dichiarazione del *for loop* o *while loop*."
   ]
  },
  {
   "cell_type": "code",
   "execution_count": 43,
   "id": "8ca9cd22-49a8-444f-bee7-b5bfcdcfd350",
   "metadata": {},
   "outputs": [
    {
     "name": "stdout",
     "output_type": "stream",
     "text": [
      "c\n",
      "a\n",
      "s\n",
      "a\n"
     ]
    }
   ],
   "source": [
    "for l in \"casba\":\n",
    "    if l == \"b\":\n",
    "        continue\n",
    "    print(l)"
   ]
  },
  {
   "cell_type": "markdown",
   "id": "8adb2b3e-ceea-4b6c-b520-0f7275c5e241",
   "metadata": {},
   "source": [
    "---\n",
    "## Exception Handling <a id='6'></a>\n",
    "Quando si verifica un errore (o “eccezione”, come viene chiamata in Python) l’esecuzione del codice si interrompe e Python genera un messaggio d’errore. Queste eccezioni possono essere gestite usando le clausole <code>try</code> ed <code>except</code>.\n",
    "\n",
    "La keyword <code>except</code> gestisce qualsiasi tipo di eccezione. Se si vuole trattare le possibili eccezioni diversamente, si fa eseguire ad <code>except</code> il tipo di errore. Tra i più comuni ci sono **AttributeError**, **IndexError**, **KeyError**, **NameError**, **TypeError**, **ValueError**, etc. \n",
    "\n",
    "**TypeError:** Errore generato quando in'operazione o una funzione sono applicate ad un oggetto di tipo non appropriato"
   ]
  },
  {
   "cell_type": "code",
   "execution_count": 44,
   "id": "9740b74c-310d-448a-8dc0-05500ec253e6",
   "metadata": {},
   "outputs": [
    {
     "ename": "TypeError",
     "evalue": "unsupported operand type(s) for +: 'int' and 'str'",
     "output_type": "error",
     "traceback": [
      "\u001b[0;31m---------------------------------------------------------------------------\u001b[0m",
      "\u001b[0;31mTypeError\u001b[0m                                 Traceback (most recent call last)",
      "Cell \u001b[0;32mIn [44], line 1\u001b[0m\n\u001b[0;32m----> 1\u001b[0m \u001b[38;5;241m1\u001b[39m \u001b[38;5;241m+\u001b[39m \u001b[38;5;124m'\u001b[39m\u001b[38;5;124ma\u001b[39m\u001b[38;5;124m'\u001b[39m\n",
      "\u001b[0;31mTypeError\u001b[0m: unsupported operand type(s) for +: 'int' and 'str'"
     ]
    }
   ],
   "source": [
    "1 + 'a'"
   ]
  },
  {
   "cell_type": "code",
   "execution_count": null,
   "id": "7e2ca5d0-eeec-4ef9-b9e6-24fac099ee93",
   "metadata": {},
   "outputs": [],
   "source": [
    "try:\n",
    "    1 + 'a'\n",
    "except:\n",
    "    print(\"Si è verificata un' eccezione.\")"
   ]
  },
  {
   "cell_type": "markdown",
   "id": "f7c75606-1fc1-4fbb-b2ab-44e715aa5474",
   "metadata": {},
   "source": [
    "### <code>else</code> <a id='6.1'></a>\n",
    "La dichiarazione <code>try</code>/<code>except</code> ha una clausola <code>else</code> opzionale che, quando presente, deve eseguire tutte le clausole <code>except</code>. È utile per inserire codice che deve essere eseguito se la clausola <code>try</code> non genera un'eccezione.\n",
    "\n",
    "<code>try:</code> &#8594; Tentativo di aprire *test.txt*\n",
    "</br><code>    f = open('test.txt')</code>\n",
    "</br><code>except FileNotFoundError :</code> &#8594; Gestione eccezione\n",
    "</br><code>    print(f\"{f.name} non trovato\")</code>\n",
    "</br><code>else:</code> &#8594; Se non viene riscontrata nessuna eccezione, viene eseguita la clausola <code>else</code>\n",
    "</br><code>    print(\"File aperto correttamente\")</code>"
   ]
  },
  {
   "cell_type": "code",
   "execution_count": null,
   "id": "e995eec9-2ced-4251-8de7-dfd06d2c04d8",
   "metadata": {},
   "outputs": [],
   "source": [
    "try: \n",
    "    f = open('test.txt')\n",
    "except FileNotFoundError: \n",
    "    print(f\"{f.name} non trovato\")\n",
    "else:\n",
    "    print(\"File aperto correttamente\")"
   ]
  },
  {
   "cell_type": "markdown",
   "id": "a6c40e65-b1b0-4e97-96e5-3e3d9c38b25d",
   "metadata": {},
   "source": [
    "### <code>finally</code> <a id='6.2'></a>\n",
    "Quando si vuole eseguire del codice a prescindere dal risultato di <code>try</code>/<code>except</code>, si aggiunge la clausola <code>finally</code>, questo codice verrà SEMPRE eseguito in qualsiasi circostanza.\n",
    "\n",
    "\n",
    "<code>f = open('test.txt', 'x')</code> &#8594; Creazione nuovo file\n",
    "</br>\n",
    "</br><code>try:</code>\n",
    "</br><code>    f.write(\"Lorem ipsum dolor sit amet\")</code> &#8594; Tentativo di scrittura\n",
    "</br><code>except:</code>\n",
    "</br><code>    print(\"Errore durante la scrittura di {f.name}\".format())</code> &#8594; Gestione eccezioni\n",
    "</br><code>else:</code> &#8594; Clausola eseguita se non si presentano eccezioni\n",
    "</br><code>    print(\"Scrittura in corso\")</code>\n",
    "</br><code>finally:</code> &#8594; Sempre eseguito\n",
    "</br><code>    print(\"Chiusura del file in corso\")</code>\n",
    "</br><code>    f.close()</code>"
   ]
  },
  {
   "cell_type": "code",
   "execution_count": null,
   "id": "bd2d795b-95f5-47b5-8c8b-34523948ea96",
   "metadata": {},
   "outputs": [],
   "source": [
    "f = open('test.txt', 'x')\n",
    "\n",
    "try:\n",
    "    f.write(\"Lorem ipsum dolor sit amet\")\n",
    "except:\n",
    "    print(\"Errore durante la scrittura di {f.name}\".format())\n",
    "else:\n",
    "    print(\"Scrittura in corso\")\n",
    "finally:\n",
    "    print(\"Chiusura del file in corso\")\n",
    "    f.close()"
   ]
  },
  {
   "cell_type": "markdown",
   "id": "0e6f04ea-8bc1-427c-8c21-44f4c909239b",
   "metadata": {},
   "source": [
    "### <code>assert</code> <a id='6.3'></a>\n",
    "La keyword <code>assert</code> rappresenta un controllo di integrità che spesso si inserisce all'inizio di una funzione per veriﬁcare la validità dell'input e dopo una chiamata di funzione per veriﬁcare la validità dell’output. Quando incontra <code>assert</code>, Python valuta l'espressione dichiarata dopo la keyword che si spera sia vera. Se l'espressione è falsa, Python solleva un'eccezione **AssertionError**.\n",
    "</br>Sintassi: <code>assert Espressione[,Arguments]</code>\n",
    "\n",
    "\n",
    "##### *Esempio:*\n",
    "<code>assert isinstance(l, (int, float)), \"Input Errato\"</code>\n",
    "* Controlla che l'input della funzione sia un **int** o un **float** con la funzione built-in <code>isinsatnce()</code>\n",
    "* Messaggio di errore personalizzato passato come *argument*"
   ]
  },
  {
   "cell_type": "code",
   "execution_count": null,
   "id": "444c27cf-16ab-4804-9f95-8af819131f46",
   "metadata": {},
   "outputs": [],
   "source": [
    "def area_quadrato(l):\n",
    "    assert isinstance(l, (int, float)), \"Input Errato\"\n",
    "    return l ** 2\n",
    "\n",
    "area_quadrato(3.5)"
   ]
  },
  {
   "cell_type": "code",
   "execution_count": null,
   "id": "cb1bd9ae-bbd9-47f2-a02a-e0ba133dc087",
   "metadata": {},
   "outputs": [],
   "source": [
    "area_quadrato('a')"
   ]
  },
  {
   "cell_type": "markdown",
   "id": "e070952f-a2bd-4d02-b7b8-c62560a2d5c6",
   "metadata": {},
   "source": [
    "**AssertionError:** Sollevato solo con la seconda invocazione della funzione in quanro viene passata una stringa"
   ]
  },
  {
   "cell_type": "markdown",
   "id": "ce360252-5149-45d4-adf7-4bcecd941930",
   "metadata": {},
   "source": [
    "### <code>raise</code> <a id='6.4'></a>\n",
    "La dichiarazione <code>raise</code> permette di sollevare un’eccezione speciﬁca. Se si vuole determinare se è stata sollevata un'eccezione ma non si intende gestirla, la semplice dichiarazione della keyword <code>raise</code> consente di sollevare nuovamente l'eccezione."
   ]
  },
  {
   "cell_type": "code",
   "execution_count": null,
   "id": "0c8dc902-6203-402f-91f6-925c2fca625e",
   "metadata": {},
   "outputs": [],
   "source": [
    "try:\n",
    "    raise NameError(\"Eccezione sollevata\")\n",
    "except:\n",
    "    print(\"Eccezione gestita\")\n",
    "    raise"
   ]
  },
  {
   "cell_type": "markdown",
   "id": "7ba20632-cb53-4626-a6e0-a2c80b4b9ad7",
   "metadata": {},
   "source": [
    "---\n",
    "## Esercizi <a id='7'></a>\n",
    "<div class=\"alert alert-block alert-info\">\n",
    "    <code>input()</code>\n",
    "    </br>Funzione che permette ad un utente di immettere una stringa durante l’esecuzione di uno script. \n",
    "    </br>I caratteri inseriti attraverso <code>input()</code> vengono SEMPRE convertiti da Python in *stringa*.\n",
    "</div>\n",
    "\n",
    "<a id='7.1'></a>\n",
    "1. Scrivi uno script che accetta un input consistente in un numero intero rappresentante un raggio, calcola l’area del rispettivo cerchio e stampa il risultato."
   ]
  },
  {
   "cell_type": "code",
   "execution_count": null,
   "id": "f19c8892-092e-429e-a659-828c385259dc",
   "metadata": {},
   "outputs": [],
   "source": []
  },
  {
   "cell_type": "markdown",
   "id": "a8614b10-92b0-488e-a358-5d5423d82022",
   "metadata": {},
   "source": [
    "<a id='7.2'></a>\n",
    "2. Scrivi uno script che accetta tre numeri interi. Se sono tutti diversi, stampa la somma dei tre; se due sono uguali, stampa il risultato della somma di quelli uguali divisi per il terzo; se tutti e tre sono uguali, stampa il risultato di $(n + n)^n$."
   ]
  },
  {
   "cell_type": "code",
   "execution_count": null,
   "id": "09dea27c-554d-489f-ab21-4a2e12ed2e99",
   "metadata": {},
   "outputs": [],
   "source": []
  },
  {
   "cell_type": "markdown",
   "id": "d96bb5f0-4065-4a80-9f25-4d0a873afa6a",
   "metadata": {},
   "source": [
    "<a id='7.3'></a>\n",
    "3. Scrivi uno script che accetta due numeri interi. Se valore di entrambi, la loro somma o la loro diﬀerenza è $5$, stampa <code>True</code>, altrimenti stampa <code>False</code>. Se gli input inseriti non sono numerici, stampa *“L’input deve essere un numero.”*."
   ]
  },
  {
   "cell_type": "code",
   "execution_count": null,
   "id": "bdcb8d91-394b-405d-9d9e-2363d488cc55",
   "metadata": {},
   "outputs": [],
   "source": []
  },
  {
   "cell_type": "markdown",
   "id": "23c4b081-fc84-4620-9a26-bdf143fea695",
   "metadata": {},
   "source": [
    "<a id='7.4'></a>\n",
    "4. Scrivi uno script che accetta un input con nome e cognome e stampa la stringa con i caratteri di *\"index”* dispari in ordine inverso."
   ]
  },
  {
   "cell_type": "code",
   "execution_count": null,
   "id": "ab61f5ff-845b-470f-81ac-02b602a7b908",
   "metadata": {},
   "outputs": [],
   "source": []
  },
  {
   "cell_type": "markdown",
   "id": "9a30ed0b-ac12-4182-907e-29f8cd9f8363",
   "metadata": {},
   "source": [
    "<a id='7.5'></a>\n",
    "5. Scrivi uno script che accetta un intero $n$, calcola e stampa il valore di $n + n*n + n*n*n$."
   ]
  },
  {
   "cell_type": "code",
   "execution_count": null,
   "id": "7b832e97-f9dd-47c0-86c8-670c00368b8f",
   "metadata": {},
   "outputs": [],
   "source": []
  },
  {
   "cell_type": "markdown",
   "id": "096242a1-82f1-467c-a52f-79c72aebb2ac",
   "metadata": {},
   "source": [
    "<a id='7.6'></a>\n",
    "6. Scrivi uno script che accetta una stringa e aggiunge *“Sono”* davanti alla stessa. Se la stringa comincia già con *“Sono”*, stampa la stringa inalterata."
   ]
  },
  {
   "cell_type": "code",
   "execution_count": null,
   "id": "2d69e4e2-ac10-4e52-bb77-a1571c3ff376",
   "metadata": {},
   "outputs": [],
   "source": []
  },
  {
   "cell_type": "markdown",
   "id": "12ffa92a-2d48-4685-9b8f-c9f004391ad7",
   "metadata": {},
   "source": [
    "<a id='7.7'></a>\n",
    "7. Scrivi uno script che calcoli la diﬀerenza tra un numero dato e $17$. Se il numero è minore di $17$, stampa il doppio della diﬀerenza assoluta (Python possiede la funzione <code>abs(n)</code> che ritorna il valore assoluto di un **int** o  di un **ﬂoat**)."
   ]
  },
  {
   "cell_type": "code",
   "execution_count": null,
   "id": "82f1747f-ce5a-4329-af5b-29efc25f3309",
   "metadata": {},
   "outputs": [],
   "source": []
  },
  {
   "cell_type": "markdown",
   "id": "0079318b-b36a-4fdd-bfc3-c07d1d66199b",
   "metadata": {},
   "source": [
    "<a id='7.8'></a>\n",
    "8. Dato un numero intero $n$, esegui le seguenti operazioni condizionali:\n",
    "    - se $n$ è dispari, stampa *“bizzarro”*\n",
    "    - se $n$ è pari e tra $2$ e $5$ (compresi), stampa *“non bizzarro”*\n",
    "    - se $n$ è pari e tra $6$ e $20$ (compresi), stampa *“bizzarro”*\n",
    "    - se $n$ è pari e più grande di $20$, stampa *“non bizzarro”*"
   ]
  },
  {
   "cell_type": "code",
   "execution_count": null,
   "id": "6e915a3e-f8e6-4cd7-a073-a420310fc7c3",
   "metadata": {},
   "outputs": [],
   "source": []
  },
  {
   "cell_type": "markdown",
   "id": "ecf5687e-b639-4d60-be20-8b7c87c8a98f",
   "metadata": {},
   "source": [
    "---\n",
    "## Context Manager <a id='8'></a>\n",
    "La dichiarazione <code>with</code> definisce un blocco di codice con metodi definiti dal *context manager* (oggetto che definisce il contesto di runtime da stabilire quando si esegue il blocco di codice <code>with</code>). Gli usi tipici dei *context manager* includono il salvataggio e il ripristino di vari tipi di stato globale, il blocco e lo sblocco delle risorse, la chiusura di file aperti, ecc."
   ]
  },
  {
   "cell_type": "code",
   "execution_count": null,
   "id": "2c73da45-7c44-40f9-90cf-758deeadc545",
   "metadata": {},
   "outputs": [],
   "source": [
    "with open('test.txt','w') as f:\n",
    "    f.write(\"Test text, first, line.\")"
   ]
  },
  {
   "cell_type": "markdown",
   "id": "c8e237b7-fa74-43cb-b00c-c0c885231e33",
   "metadata": {},
   "source": [
    "Grazie a <code>with</code> il file si chiude automaticamente dopo l’esecuzione del blocco di codice, garantendo la chiusura del file a dispetto di possibili errori nel blocco di codice. Se si presenta un’eccezione prima della fine del blocco, Python chiuderà il file per poi sollevare l’eccezione.\n",
    "\n",
    "---\n",
    "## Moduli <a id='9'></a>\n",
    "I moduli sono delle librerie di codice che si possono importare nel proprio script o in un’istanza interattiva dell’interprete.\n",
    "</br>Per importare un modulo si ricorre alla keyword <code>import</code>."
   ]
  },
  {
   "cell_type": "code",
   "execution_count": null,
   "id": "8910afe3-11f3-4292-9568-1c9be28c1448",
   "metadata": {},
   "outputs": [],
   "source": [
    "import math # Importa l'intero modulo math\n",
    "math.factorial(5)"
   ]
  },
  {
   "cell_type": "code",
   "execution_count": null,
   "id": "c6b4f286-ce51-4b16-a3cb-ddec6f11b7e6",
   "metadata": {},
   "outputs": [],
   "source": [
    "from math import factorial # Importa una specifica funzione del modulo math\n",
    "factorial(5)"
   ]
  },
  {
   "cell_type": "code",
   "execution_count": null,
   "id": "0c6fa697-7ac3-4150-a576-019058c83a44",
   "metadata": {},
   "outputs": [],
   "source": [
    "from string import ascii_lowercase # Importa un attributo del modulo string\n",
    "ascii_lowercase"
   ]
  },
  {
   "cell_type": "markdown",
   "id": "dd5c55ec-2b4c-4df9-b0d1-2b680d8cd1d6",
   "metadata": {},
   "source": [
    "### Metodi - Funzioni <a id='9.1'></a>\n",
    "Un *metodo* è una *funzione* che fa parte di una *classe* ed è utilizzabile su un oggetto della *classe* stessa. \n",
    "</br>Una *funzione* è un oggetto istanza della *classe* <code>function</code>.\n",
    "\n",
    "**Funzione:** <code>funzione()</code>\n",
    "</br>**Metodo:** <code>oggetto.metodo()</code>"
   ]
  },
  {
   "cell_type": "code",
   "execution_count": null,
   "id": "b5596cf7-46b2-41c3-a10e-fc0a864d1048",
   "metadata": {},
   "outputs": [],
   "source": [
    "def f(): # Definisce una funzione\n",
    "    pass\n",
    "\n",
    "type(f)"
   ]
  },
  {
   "cell_type": "code",
   "execution_count": null,
   "id": "06634ddf-8c05-41ab-a4e0-76167ef4f11f",
   "metadata": {},
   "outputs": [],
   "source": [
    "type(print) # Funzione integrata print"
   ]
  },
  {
   "cell_type": "code",
   "execution_count": null,
   "id": "d6024add-f90e-4bb3-8665-7db58d881fa5",
   "metadata": {},
   "outputs": [],
   "source": [
    "type(list().append) # Metodo integrato della classe list (funzione legata all'oggetto)"
   ]
  },
  {
   "cell_type": "markdown",
   "id": "86bb68c4-3dc7-4360-99d7-b1fe09f5cacc",
   "metadata": {},
   "source": [
    "---\n",
    "## Strutture Dati <a id='10'></a>\n",
    "Le principali strutture dati in Python sono:\n",
    "\n",
    "| Struttura Dati | Costruttore |\n",
    "|:---------------|:------------|\n",
    "|Liste | <code>list()</code> |\n",
    "|Tuple | <code>tuple()</code> |\n",
    "|Set | <code>set()</code> |\n",
    "|Dizionari | <code>dict()</code> |\n",
    "\n",
    "Esistono inoltre, importandole da moduli, molte altre stutture dati.\n",
    "\n",
    "### Liste <a id='10.1'></a>\n",
    "La struttura dati più versatile è la *lista*, che può essere scritta come un elenco di oggetti (elementi),separati da virgola, tra parentesi quadre (o con costruttore <code>list()</code>) e può contenere oggetti di diverso tipo.\n",
    "</br>Sintassi: <code>nome_lista = [*elem_1*, *elem_2*, ..., *elem_n*]</code>"
   ]
  },
  {
   "cell_type": "code",
   "execution_count": null,
   "id": "aa3b3b06-0439-4fd8-beb9-b951d0f2e475",
   "metadata": {},
   "outputs": [],
   "source": [
    "a = 1.6\n",
    "mia_lista = [1, 'stringa', [1, 2, 3], a]"
   ]
  },
  {
   "cell_type": "markdown",
   "id": "ab6647a4-ccfd-4aa6-a551-9562b8e6d562",
   "metadata": {},
   "source": [
    "Dove:\n",
    "| Elemento | Descrizione |\n",
    "|:---------|:------------|\n",
    "| <code>mia_lista</code> | Identificatore lista |\n",
    "| <code>1</code> | Elemento **int** |\n",
    "| <code>'stringa'</code> | Elemento **str** |\n",
    "| <code>[1, 2, 3]</code> | Elemento **list** |\n",
    "| <code>a</code> | Oggetto precedentemente asseganto ad un identificatore |\n",
    "\n",
    "Le *liste* sono collezioni mutabili di oggetti ordinati selezionabili attraverso il loro *index*. Il numero di *index* parte da 0."
   ]
  },
  {
   "cell_type": "code",
   "execution_count": null,
   "id": "6f1c73e1-3954-46ce-9340-417c0d0ec833",
   "metadata": {},
   "outputs": [],
   "source": [
    "l = ['a', 'b', 'c']\n",
    "\n",
    "l[0] # Accesso ad un elemento"
   ]
  },
  {
   "cell_type": "code",
   "execution_count": null,
   "id": "055103f5-38ed-4d70-b81c-bd5a5b6dcf30",
   "metadata": {},
   "outputs": [],
   "source": [
    "l[1] = 'f' # Sostituzione di un elemento\n",
    "l"
   ]
  },
  {
   "cell_type": "code",
   "execution_count": null,
   "id": "a6145db4-ec86-4836-89a4-3f597a162d5e",
   "metadata": {},
   "outputs": [],
   "source": [
    "del l[2] # Cancellazione di un elemento\n",
    "l"
   ]
  },
  {
   "cell_type": "markdown",
   "id": "73054bb8-fb7d-4cd9-82c8-922e16fd4487",
   "metadata": {},
   "source": [
    "#### Slicing <a id='10.1.1'></a>\n",
    "Sulle *liste* (e sulle *stringhe*) si può usare anche lo *slicing* (to slice = aﬀettare) accedendo ad una “fetta” di elementi attraverso il loro *index*."
   ]
  },
  {
   "cell_type": "code",
   "execution_count": null,
   "id": "2c0b2c59-b489-4d4e-89c5-217fb9b58acf",
   "metadata": {},
   "outputs": [],
   "source": [
    "l = ['a', 'b', 'c']\n",
    "\n",
    "l[0:2]"
   ]
  },
  {
   "cell_type": "markdown",
   "id": "401a1217-bd7f-4793-bf4e-8aefc64fb907",
   "metadata": {},
   "source": [
    "#### Metodi per le Liste <a id='10.1.2'></a>\n",
    "Python ha una serie di funzioni e metodi integrati che si possono usare sulle *liste*, tra i più usati ci sono:\n",
    "\n",
    "##### <code>.append()</code> <a id='10.1.2.1'></a>"
   ]
  },
  {
   "cell_type": "code",
   "execution_count": null,
   "id": "7ffe4a8c-1406-4cdf-a17c-0d8247920f6d",
   "metadata": {},
   "outputs": [],
   "source": [
    "l = ['a', 'b', 'c']\n",
    "l.append('d')\n",
    "l"
   ]
  },
  {
   "cell_type": "markdown",
   "id": "6d55e703-3e46-47c2-b381-10419bf04642",
   "metadata": {},
   "source": [
    "##### <code>.count()</code> <a id='10.1.2.2'></a>"
   ]
  },
  {
   "cell_type": "code",
   "execution_count": null,
   "id": "1a5d407d-3517-4de2-9123-1962723b7b43",
   "metadata": {},
   "outputs": [],
   "source": [
    "l.count('a')\n"
   ]
  },
  {
   "cell_type": "markdown",
   "id": "a37a6c48-944a-47db-bec7-b9f334bb725e",
   "metadata": {},
   "source": [
    "##### <code>.index()</code> <a id='10.1.2.3'></a>"
   ]
  },
  {
   "cell_type": "code",
   "execution_count": null,
   "id": "a083eab2-e4d7-4582-957c-dd3cce5b9a90",
   "metadata": {},
   "outputs": [],
   "source": [
    "l.index('c')"
   ]
  },
  {
   "cell_type": "markdown",
   "id": "ff0b0f27-9846-4264-bf7b-70a404a2db85",
   "metadata": {},
   "source": [
    "##### <code>.insert()</code> <a id='10.1.2.4'></a>"
   ]
  },
  {
   "cell_type": "code",
   "execution_count": null,
   "id": "89db12cf-bd4a-4154-ab59-36ad2936da86",
   "metadata": {},
   "outputs": [],
   "source": [
    "l.insert(3, 'd')\n",
    "l"
   ]
  },
  {
   "cell_type": "markdown",
   "id": "55eecab3-65df-4d37-a6e7-efac960481a7",
   "metadata": {},
   "source": [
    "##### <code>.len()</code> <a id='10.1.2.5'></a>"
   ]
  },
  {
   "cell_type": "code",
   "execution_count": null,
   "id": "03ecf060-d2ba-4f10-bd23-6891bdcfec54",
   "metadata": {},
   "outputs": [],
   "source": [
    "len(l)"
   ]
  },
  {
   "cell_type": "markdown",
   "id": "29f651d8-8009-4b5d-b559-ef8ab3f99743",
   "metadata": {},
   "source": [
    "##### <code>.pop()</code> <a id='10.1.2.6'></a>"
   ]
  },
  {
   "cell_type": "code",
   "execution_count": null,
   "id": "c898129f-6346-40cb-8d76-79c29ae3da82",
   "metadata": {},
   "outputs": [],
   "source": [
    "l.pop(2)"
   ]
  },
  {
   "cell_type": "code",
   "execution_count": null,
   "id": "6b947231-9424-45ce-9a6c-b5925ee29931",
   "metadata": {},
   "outputs": [],
   "source": [
    "l"
   ]
  },
  {
   "cell_type": "markdown",
   "id": "3572070f-3645-408f-b325-7be9dad524db",
   "metadata": {},
   "source": [
    "### Tuple <a id='10.2'></a>\n",
    "Le *tuple* sono delle sequenze, proprio come le *liste*, la diﬀerenza principale tra le *tuple* e le *liste* è che le *tuple* non possono essere modiﬁcate. Per istanziare una *tupla* si usano parentesi tonde o il costruttore <code>tuple()</code>."
   ]
  },
  {
   "cell_type": "code",
   "execution_count": null,
   "id": "be01e03c-87aa-44f0-a5cb-41f515718bb4",
   "metadata": {},
   "outputs": [],
   "source": [
    "t = ('a', 'b', 'c') # Istanza di una tupla\n",
    "t"
   ]
  },
  {
   "cell_type": "code",
   "execution_count": null,
   "id": "63a1f855-0a1f-46b5-a892-46c37faf45a3",
   "metadata": {},
   "outputs": [],
   "source": [
    "type(t) # Check tipo di oggetto"
   ]
  },
  {
   "cell_type": "code",
   "execution_count": null,
   "id": "b70632c4-bdd9-44eb-a9ff-940a00c32de9",
   "metadata": {},
   "outputs": [],
   "source": [
    "t[0] # Accesso all'elemento con index 0"
   ]
  },
  {
   "cell_type": "code",
   "execution_count": null,
   "id": "d32d6506-8796-40f8-8567-f0a28a0137d9",
   "metadata": {},
   "outputs": [],
   "source": [
    "del t[0] # Python genererà un Errore (le tuple non sono modificabili)"
   ]
  },
  {
   "cell_type": "markdown",
   "id": "a0653cd0-67a5-4c4d-9df4-66a254acf66f",
   "metadata": {},
   "source": [
    "### Set <a id='10.3'></a>\n",
    "Un *set* è una collezione non ordinata e non indicizzata di elementi unici e immutabili. Per istanziare un set si usano parentesi graﬀe o il costruttore <code>set()</code>. L’idea del set è quella di ricreare le funzionalità tipiche degli insiemi matematici.\n",
    "\n",
    "* **Nota:**\n",
    "    </br>anche i *dizionari* utilizzano le parentesi graﬀe, per creare un dizionario vuoto sarà suﬃciente utilizzare <code>{}</code>.\n",
    "    </br>Per creare un *set* vuoto si dovrà ricorrere invece al costruttore <code>set()</code>.\n",
    "    \n",
    "Utilizzo del costruttore <code>set()</code> per ottenere una collezione di oggetti unici."
   ]
  },
  {
   "cell_type": "code",
   "execution_count": null,
   "id": "d5a3cbe6-e21a-454c-a7d2-23365b9ec203",
   "metadata": {},
   "outputs": [],
   "source": [
    "l = [1, 1, 2, 3, 4, 3, 3, 3, 4]\n",
    "\n",
    "setted_list = set(l)\n",
    "setted_list"
   ]
  },
  {
   "cell_type": "markdown",
   "id": "7abcddbe-8bb1-4ca9-8164-053b1d90176e",
   "metadata": {},
   "source": [
    "Istanza di un set con due elementi uguali (il secondo <code>4</code> non verrà inserito)."
   ]
  },
  {
   "cell_type": "code",
   "execution_count": null,
   "id": "5536d663-c68d-4ce9-9ab2-539ef7e0e8fb",
   "metadata": {},
   "outputs": [],
   "source": [
    "s = {1, 2, 3, 4, 4}\n",
    "s"
   ]
  },
  {
   "cell_type": "markdown",
   "id": "cdba6735-288e-4406-aef2-315327d8b922",
   "metadata": {},
   "source": [
    "I *set* non sono indicizzati."
   ]
  },
  {
   "cell_type": "code",
   "execution_count": null,
   "id": "32d89b51-bd77-4600-bf16-784e6bd6fb08",
   "metadata": {},
   "outputs": [],
   "source": [
    "s[0]"
   ]
  },
  {
   "cell_type": "markdown",
   "id": "426eceac-0233-4f7c-a68f-4b4f66225428",
   "metadata": {},
   "source": [
    "#### Metodi per i Set <a id='10.3.1'></a>\n",
    "I *set* hanno a disposizione diverse *funzioni* (e *metodi*) ﬁnalizzate a controllare la struttura, modiﬁcarla o confrontare più strutture.\n",
    "\n",
    "##### <code>.add()</code> <a id='10.3.1.1'></a>"
   ]
  },
  {
   "cell_type": "code",
   "execution_count": null,
   "id": "1f267121-6813-460f-b049-3f8ed2b46466",
   "metadata": {},
   "outputs": [],
   "source": [
    "s = {'a', 'b'}\n",
    "s.add('c') # Aggiunta di un elemento NON modificabile\n",
    "s"
   ]
  },
  {
   "cell_type": "code",
   "execution_count": null,
   "id": "0662a5a6-d507-4d9a-9932-7be1c16fed50",
   "metadata": {},
   "outputs": [],
   "source": [
    "l = [1, 2, 3] \n",
    "\n",
    "s.add(l) # Aggiunta di un elemento modificabile (errore!)"
   ]
  },
  {
   "cell_type": "markdown",
   "id": "a96071a9-52bb-4e49-bb8e-3f2e45f11242",
   "metadata": {},
   "source": [
    "I *set* sono sequenze “mutabili” ma possono contenere SOLO elementi immutabili (hashable). I *set* hanno a disposizione le stesse *funzioni* usate anche sulle *liste* (<code>min()</code>, <code>max()</code>, <code>len()</code>) e molti *metodi*. Per la modiﬁca strutturale di un *set*, ci sono:\n",
    "\n",
    "##### <code>.remove()</code> <a id='10.3.1.2'></a>"
   ]
  },
  {
   "cell_type": "code",
   "execution_count": null,
   "id": "b75dafb3-a41f-401c-9045-7f5ca9ea20b0",
   "metadata": {},
   "outputs": [],
   "source": [
    "s = {1, 2, 3}\n",
    "s.remove(3)\n",
    "s"
   ]
  },
  {
   "cell_type": "code",
   "execution_count": null,
   "id": "6e93e82a-6cb5-4b89-a168-88353df02ff0",
   "metadata": {},
   "outputs": [],
   "source": [
    "s.remove(3)"
   ]
  },
  {
   "cell_type": "markdown",
   "id": "04230534-1dc7-4c94-b4d6-b7b90cb40e36",
   "metadata": {},
   "source": [
    "##### <code>.discard()</code> <a id='10.3.1.3'></a>"
   ]
  },
  {
   "cell_type": "code",
   "execution_count": null,
   "id": "d947acf2-46db-47ad-974a-72d25e1d0ab7",
   "metadata": {},
   "outputs": [],
   "source": [
    "s.discard(2)\n",
    "s"
   ]
  },
  {
   "cell_type": "code",
   "execution_count": null,
   "id": "c7f51ae5-d61e-4a45-8956-b92a37427b49",
   "metadata": {},
   "outputs": [],
   "source": [
    "s.discard(2)"
   ]
  },
  {
   "cell_type": "markdown",
   "id": "8f9882e6-56ed-48bf-a86f-c10cfa49ea22",
   "metadata": {},
   "source": [
    "<div class=\"alert alert-warning\">\n",
    "    <code>.remove()</code> e <code>.discard()</code> svolgono lo stesso compito ma <code>.remove()</code> solleva un errore se non trova l’elemento.\n",
    "</div>\n",
    "\n",
    "\n",
    "##### Altri metodi <a id='10.3.1.4'></a>\n",
    "Altri *metodi* utili per confrontare due o più *set*:\n",
    "| Metodo | Descrizione |\n",
    "|:-------|:------------|\n",
    "| <code>.difference()</code> | Ritorna un *set* contenente le differenze tra due o più *set* |\n",
    "| <code>.difference_update()</code> | Rimuove gli elementi nel *set* che sono presenti in un altro *set* specificato |\n",
    "| <code>.intersection()</code> | Ritorna un *set* che è l'intersezione di altri due *set* |\n",
    "| <code>.intersection_update()</code> | Rimuove gli elementi nel *set* che  non sono presenti nell'altro/negli altri *set* specificato/i |\n",
    "| <code>.isdisjoint()</code> | Ritorna un *booleano* che indica se due *set* non hanno un'intersezione o meno |\n",
    "| <code>.issubset()</code> | Ritorna un *booleano* che indica se il *set* è compreso in un'altro *set* specificato o meno |\n",
    "| <code>.issuperset()</code> | Ritorna un *booleano* che indica se il *set* contiene un'altro *set* specificato o meno |\n",
    "| <code>.symmetric_difference()</code> | Ritorna un *set* con le differenze simmetriche di due *set* |\n",
    "| <code>.symmetric_difference_update()</code> | Rimuove gli elementi comuni tra due *set* ed inserisce nel primo le differenze simmetriche |\n",
    "| <code>.union()</code> | Ritorna un *set* contenente l'unione di uno o più *set* |\n",
    "| <code>.update()</code> | Modifica il *set* con l'unione di uno o più *set* |\n",
    "\n",
    "### Dizionari <a id='10.4'></a>\n",
    "I *dizionari* si trovano talvolta in altri linguaggi come \"memorie associative\" o \"array associativi\". A diﬀerenza delle sequenze (<code>str</code>, <code>list</code>, <code>tuple</code>), che sono indicizzate con numeri, i *dizionari* sono indicizzati da *key*, che possono essere di qualsiasi tipo immutabile, accoppiati con *value*; *stringhe* e *numeri* possono sempre essere chiavi. Si possono istanziare con parentesi graﬀe o con il costruttore <code>dict()</code>.\n",
    "</br>Sintassi: <code>nome_dizionario = { *key_1*:*value_2*, *key_2*:*value_2*, ..., *key_n*:*value_n* }</code>"
   ]
  },
  {
   "cell_type": "code",
   "execution_count": null,
   "id": "90e409bd-689f-4db0-bc24-e8160766286f",
   "metadata": {},
   "outputs": [],
   "source": [
    "d = {'a':1, 'b':2, 'c':3} # Istanza di classe dict\n",
    "d"
   ]
  },
  {
   "cell_type": "code",
   "execution_count": null,
   "id": "9c876817-e992-476e-b08d-1fdce0dbf475",
   "metadata": {},
   "outputs": [],
   "source": [
    "d['a'] # Accesso all'elemento con chiave 'a'"
   ]
  },
  {
   "cell_type": "code",
   "execution_count": null,
   "id": "d3ae4ab9-6059-45eb-8bf1-62587741a3be",
   "metadata": {},
   "outputs": [],
   "source": [
    "d.get('b') # Accesso all'elemento con chiave 'b' tramite il metodo .get()"
   ]
  },
  {
   "cell_type": "markdown",
   "id": "0d5ce573-b477-43d8-84f4-4a07ba6cc7cf",
   "metadata": {},
   "source": [
    "I *dizionari* sono strutture dati mutabili e possono contenere QUALSIASI oggetto come *value*. Per modiﬁcare la struttura di un *dizionario* si può ricorrere a diversi strumenti.\n",
    "\n",
    "#### Inserimento <a id='10.4.1'></a>\n",
    "Inserimento di un nuovo elemento:\n",
    "</br>**chiave:** <code>'d'</code>\n",
    "</br>**valore:** lista <code>[1, 2, 3]</code>"
   ]
  },
  {
   "cell_type": "code",
   "execution_count": null,
   "id": "fe63b69b-9aad-4f5b-aa59-78970357d475",
   "metadata": {},
   "outputs": [],
   "source": [
    "d['d'] = [1, 2, 3]\n",
    "\n",
    "d"
   ]
  },
  {
   "cell_type": "code",
   "execution_count": null,
   "id": "2ed3c1e7-5759-4a40-8362-0d85ccbaea46",
   "metadata": {},
   "outputs": [],
   "source": [
    "d.update({'e':[1, 2, 3]})\n",
    "d"
   ]
  },
  {
   "cell_type": "markdown",
   "id": "07905c88-bdb2-4572-9ce4-010d3ccdd181",
   "metadata": {},
   "source": [
    "#### Cancellazione <a id='10.4.2'></a>\n",
    "Cancellazione di un elemento con keyword <code>del</code> (utilizzabile con qualsiasi elemento di sequenze mutabili o identificatore)."
   ]
  },
  {
   "cell_type": "code",
   "execution_count": null,
   "id": "374e4bc6-71a6-4f97-a26e-d0a9cdd7069c",
   "metadata": {},
   "outputs": [],
   "source": [
    "del d['e']\n",
    "\n",
    "d"
   ]
  },
  {
   "cell_type": "markdown",
   "id": "5ef6ae60-d0ee-4f57-8859-5c8842b7ac88",
   "metadata": {},
   "source": [
    "#### <code>.fromkeys(*keys*,[*value*])</code> <a id='10.4.3'></a>\n",
    "Ritorna un *dizionario* con le chiavi e i valori (opzionale) specificati (se non viene specificato nessun valore, None viene assegnato di default)"
   ]
  },
  {
   "cell_type": "code",
   "execution_count": null,
   "id": "2eb87776-9060-4dd0-9a78-d5ebbdcd1597",
   "metadata": {},
   "outputs": [],
   "source": [
    "k = ['a', 'b', 'c']\n",
    "\n",
    "dict.fromkeys(k)"
   ]
  },
  {
   "cell_type": "markdown",
   "id": "cfecc8d9-768f-430e-bff1-f2124616db19",
   "metadata": {},
   "source": [
    "#### <code>.setdefault(*keys*,[*value*])</code> <a id='10.4.4'></a>\n",
    "Ritorna il valore (secondo argument) inserito.\n",
    "</br>Se la chiave è già esistente, non avvengono modifiche.\n",
    "</br>Se non esiste, vengono inseriti chiave e valore (<code>default = None</code>)."
   ]
  },
  {
   "cell_type": "code",
   "execution_count": null,
   "id": "e0fd5c61-5db0-49a9-a763-61663141481f",
   "metadata": {},
   "outputs": [],
   "source": [
    "d = {'a':1, 'b':2, 'c':3}\n",
    "\n",
    "d.setdefault('d',4)"
   ]
  },
  {
   "cell_type": "code",
   "execution_count": null,
   "id": "04143a2f-0521-4f70-b62e-a11588742204",
   "metadata": {},
   "outputs": [],
   "source": [
    "d"
   ]
  },
  {
   "cell_type": "markdown",
   "id": "36d806a1-40f0-448d-aca5-fee1ee1b22a2",
   "metadata": {},
   "source": [
    "## Copia <a id='11'></a>\n",
    "In Python esistono due tipi di copia, la copia *shallow* (“superﬁciale”) e la copia *deep* (“profonda”) (utilizzabile importando il modulo <code>copy</code>). La diﬀerenza tra *shallow copy* e *deep copy* è rilevante solo per oggetti con altri oggetti annidati o istanze di *classe*. \n",
    "\n",
    "Prima di approfondire la differenza tra *shallow copy* e *deep copy*, va capito come Python gestisce le “variabili”, tramite l'utilizzo di <code>id()</code> una built-in function che ritorna l’indirizzo dell’oggetto nella memoria.\n",
    "\n",
    "##### *Esempio 1:*"
   ]
  },
  {
   "cell_type": "code",
   "execution_count": null,
   "id": "5d24fa5d-d769-410c-8954-5c3af026323c",
   "metadata": {},
   "outputs": [],
   "source": [
    "lst_1 = [1, 2, 3] # lista assegnata a lst_1\n",
    "lst_2 = lst_1 # lst_1 assegnata a lst_2\n",
    "lst_1 == lst_2 # lst_1 e lst_2 sono due identificatori che accedono allo stesso oggetto"
   ]
  },
  {
   "cell_type": "code",
   "execution_count": null,
   "id": "c6518145-9da5-4e1f-acf8-45b737690c5d",
   "metadata": {},
   "outputs": [],
   "source": [
    "id(lst_1) == id(lst_2)"
   ]
  },
  {
   "cell_type": "code",
   "execution_count": null,
   "id": "15f075b1-e13f-4a25-b4ef-292fa70dab45",
   "metadata": {},
   "outputs": [],
   "source": [
    "print(id(lst_1))\n",
    "print(id(lst_2))"
   ]
  },
  {
   "cell_type": "markdown",
   "id": "345971c6-1faa-4ba3-abd3-f70e41dedf2f",
   "metadata": {},
   "source": [
    "##### *Esempio 2:*"
   ]
  },
  {
   "cell_type": "code",
   "execution_count": null,
   "id": "7d38b77e-30a5-49d1-aa39-a5c1099b7e59",
   "metadata": {},
   "outputs": [],
   "source": [
    "lst_1 = [1, 2, 3] # lista assegnata a lst_1\n",
    "lst_2 = [1, 2, 3] # lista assegnata a lst_2\n",
    "lst_1 == lst_2 # lst_1 e lst_2 sono due identificatori che accedono a oggetti differenti"
   ]
  },
  {
   "cell_type": "code",
   "execution_count": null,
   "id": "e54f4f33-6e72-49c3-9bfa-7f65d30fd2f2",
   "metadata": {},
   "outputs": [],
   "source": [
    "id(lst_1) == id(lst_2)"
   ]
  },
  {
   "cell_type": "code",
   "execution_count": null,
   "id": "943c270b-7c18-4da1-8ea6-c390cabab463",
   "metadata": {},
   "outputs": [],
   "source": [
    "print(id(lst_1))\n",
    "print(id(lst_2))"
   ]
  },
  {
   "cell_type": "markdown",
   "id": "c9caf289-f2af-4339-ae89-dc64ad35d73a",
   "metadata": {},
   "source": [
    "---\n",
    "## Generatori\n",
    "\n",
    "---\n",
    "## Syntax Comprehension\n",
    "\n",
    "---\n",
    "## Stringhe, byte, unicode\n",
    "\n",
    "---\n",
    "## Classi"
   ]
  },
  {
   "cell_type": "code",
   "execution_count": null,
   "id": "8bfe2244-fb7f-4e65-93c3-a2be8dc532a8",
   "metadata": {},
   "outputs": [],
   "source": []
  }
 ],
 "metadata": {
  "kernelspec": {
   "display_name": "Python 3 (ipykernel)",
   "language": "python",
   "name": "python3"
  },
  "language_info": {
   "codemirror_mode": {
    "name": "ipython",
    "version": 3
   },
   "file_extension": ".py",
   "mimetype": "text/x-python",
   "name": "python",
   "nbconvert_exporter": "python",
   "pygments_lexer": "ipython3",
   "version": "3.10.8"
  }
 },
 "nbformat": 4,
 "nbformat_minor": 5
}
