{
 "cells": [
  {
   "cell_type": "markdown",
   "id": "ee3ce804-ea6b-4495-a7da-ec5a254e2d71",
   "metadata": {},
   "source": [
    "# Python <a id='0'></a>\n",
    "1. #### **[Struttura Lessicale](#1)**\n",
    "2. #### **[Charset - Tokens](#2)**\n",
    "3. #### **[Tipi di Dato](#3)**\n",
    "    1. **[Variabili](#3.1)**\n",
    "    2. **[Numeri](#3.2)**\n",
    "    3. **[<code>None</code> - Bool](#3.3)**\n",
    "        1. [<code>None</code>](#3.3.1)\n",
    "        2. [Bool](#3.3.2)\n",
    "    4. **[Stringhe](#3.4)**\n",
    "        1. [Funzione <code>print()</code>](#3.4.1)\n",
    "        2. [Slicing](#3.4.2)\n",
    "4. #### **[Operatori](#4)**\n",
    "    1. **[Operatori Aritmetici](#4.1)**\n",
    "    2. **[Operatori di Assegnamento](#4.2)**\n",
    "    3. **[Operatori di Confronto](#4.3)**\n",
    "    4. **[Operatori Logici](#4.4)**\n",
    "    5. **[Operatori di Identità](#4.5)**\n",
    "    6. **[Operatori di Appartenenza](#4.6)**  \n",
    "5. #### **[Dichiarazioni Condizionali](#5)**\n",
    "    1. **[Loop](#5.1)**\n",
    "        1. [<code>while</code> Loop](#5.1.1)\n",
    "        2. [<code>for</code> Loop](#5.1.2)\n",
    "    2. **[<code>break</code> - <code>continue</code>](#5.2)**\n",
    "        1. [<code>break</code>](#5.2.1)\n",
    "        2. [<code>continue</code>](#5.2.2)\n",
    "6. #### **[Exception Handling](#6)**\n",
    "    1. **[<code>else</code>](#6.1)**\n",
    "    2. **[<code>finally</code>](#6.2)**\n",
    "    3. **[<code>assert</code>](#6.3)**\n",
    "    4. **[<code>raise</code>](#6.4)**\n",
    "7. #### **[Esercizi](#7)**\n",
    "    1. **[Esercizio](#7.1)**\n",
    "    2. **[Esercizio](#7.2)**\n",
    "    3. **[Esercizio](#7.3)**\n",
    "    4. **[Esercizio](#7.4)**\n",
    "    5. **[Esercizio](#7.5)**\n",
    "    6. **[Esercizio](#7.6)**\n",
    "    7. **[Esercizio](#7.7)**\n",
    "    8. **[Esercizio](#7.8)**"
   ]
  },
  {
   "cell_type": "markdown",
   "id": "652de911-a0ea-4212-b534-01541ff1e9e5",
   "metadata": {},
   "source": [
    "## Struttura Lessicale <a id='1'></a>\n",
    "La fine di una linea delimita la fine di uno statement. Se lo statement è più lungo di 80 caratteri utilizzo backslash \n",
    "<code> \\ </code> per continuare in una nuova linea. L’apertura di parentesi <code> ( [ { </code> determinano la fine dello statement solo alla loro chiusura (eventuali nuove linee vengono considerate un’unica linea logica senza l’utilizzo del backslash).</br>\n",
    "\n",
    "Python usa l’indentazione per esprimere la struttura dei blocchi di un programma, quindi, un blocco è un insieme di linee contigue tutte indentate della stessa quantità.</br>\n",
    "\n",
    "<div class=\"alert alert-warning\">\n",
    "    Nell’indentazione è bene non mischiare spazi e tab, è raccomandato l’utilizzo di 4 spazi, gli IDE di solito traducono tab in 4 spazi.\n",
    "</div>\n",
    "---- &#8702; 4 spazi\n"
   ]
  },
  {
   "cell_type": "markdown",
   "id": "46525206-831c-445c-86ec-02c17872df43",
   "metadata": {},
   "source": [
    "## Charset - Tokens <a id='2'></a>\n",
    "\n",
    "In Python 3 i file sorgenti sono “encodati” in **UTF-8**. L’encoding è un problema tipico soprattutto quando si lavora su file in ambiente Windows, dove l’encoding di default è **iso-8859-1**.</br>\n",
    "\n",
    "In Python ogni linea logica è una sequenza di componenti lessicali noti come tokens, questi sono *identifiers, keywords, operators, delimiters, literals*.\n",
    "\n",
    "- **indentifiers:**\n",
    "    </br>nome usato per speciﬁcare una variabile, funzione, classe, modulo o altro oggetto. Inizia con una lettera o un underscore <code>_</code> seguito da 0 o più lettere, underscore o cifre; **_Case matter!_**\n",
    "\n",
    "- **keywords:**\n",
    "    </br>identiﬁcatori riservati per uso sintattico \n",
    "    <code>and, as, assert, break, class, continue, def, del, elif, else, False, ﬁnally, for, from, global, if, import, in, is, lambda, None, nonlocal, not, or, pass, raise, return, True, try, while, with, yield</code>\n",
    "\n",
    "- **operatos**\n",
    "    </br><code> + - * / % ** // << >> & | ^ ~ < <= > >= <> != ==</code>\n",
    "\n",
    "- **delimiters**\n",
    "    </br><code> ( ) [ ] { } , : . ` = ; @ += -= *= /= //= %= &= |= ^= >>= <<= **= </code>\n",
    "    </br><code> ' </code> e <code> \" </code> circondano *literals* di tipo stringa\n",
    "    </br><code> # </code> fuori da una stringa inizia un commento\n",
    "    </br><code> / </code> alla ﬁne di una linea ﬁsica unisce la successiva in un’unica linea logica\n",
    "    \n",
    "- **literals**\n",
    "    </br>In un programma si tratta della denotazione di un dato (*numero, string, contenitore*)\n",
    "    "
   ]
  },
  {
   "cell_type": "code",
   "execution_count": 1,
   "id": "ffefc212-c643-4e0a-9f4a-f13254527b46",
   "metadata": {},
   "outputs": [
    {
     "data": {
      "text/plain": [
       "42"
      ]
     },
     "execution_count": 1,
     "metadata": {},
     "output_type": "execute_result"
    }
   ],
   "source": [
    "42 # Integer literal"
   ]
  },
  {
   "cell_type": "code",
   "execution_count": 2,
   "id": "52086d9f-4dc9-4dd3-b5ac-b6ade4c4a9b1",
   "metadata": {},
   "outputs": [
    {
     "data": {
      "text/plain": [
       "1j"
      ]
     },
     "execution_count": 2,
     "metadata": {},
     "output_type": "execute_result"
    }
   ],
   "source": [
    "1.0j # Imaginary literal"
   ]
  },
  {
   "cell_type": "code",
   "execution_count": 3,
   "id": "fac5fb83-af5f-42ea-ad14-a0d994125a87",
   "metadata": {},
   "outputs": [
    {
     "data": {
      "text/plain": [
       "' Good\\n\\nnight'"
      ]
     },
     "execution_count": 3,
     "metadata": {},
     "output_type": "execute_result"
    }
   ],
   "source": [
    "\"\"\" Good\n",
    "...\n",
    "night\"\"\" # Triple-quoted string level"
   ]
  },
  {
   "cell_type": "code",
   "execution_count": 4,
   "id": "0a0055e6-ecb1-46f7-9084-3d0f6552e0c1",
   "metadata": {},
   "outputs": [
    {
     "data": {
      "text/plain": [
       "[1, 2, 3]"
      ]
     },
     "execution_count": 4,
     "metadata": {},
     "output_type": "execute_result"
    }
   ],
   "source": [
    "[1, 2, 3] #list"
   ]
  },
  {
   "cell_type": "markdown",
   "id": "1ea99aea-2ae3-4a02-bd26-b5ecdc087d3e",
   "metadata": {},
   "source": [
    "## Tipi di Dato <a id='3'></a>\n",
    "### Variabili <a id='3.1'></a>\n",
    "Python è object oriented e con tipizzazione dinamica delle variabili (queste sono però strettamente tipizzate). Non è necessario dichiarare le variabili prima di usarle né dichiarare il loro tipo. Ogni variabile in Python è un’istanza di una classe che si può assegnare a un identificatore.\n",
    "\n",
    "<code>my_var = 42</code>\n",
    "</br><code>my_var</code> &#8702; identificatore\n",
    "</br><code>42</code> &#8702; istanza della classe **int**"
   ]
  },
  {
   "cell_type": "code",
   "execution_count": 5,
   "id": "4ea01c44-3d93-423d-8296-f66957739890",
   "metadata": {},
   "outputs": [],
   "source": [
    "my_var = 42"
   ]
  },
  {
   "cell_type": "markdown",
   "id": "9724f647-38d3-46d1-8cb8-894761d3984a",
   "metadata": {},
   "source": [
    "### Numeri <a id='3.2'></a>\n",
    "I principali *“tipi”* di numero che Python supporta sono numeri interi e numeri in virgola mobile (supporta anche i numeri complessi).\n",
    "</br>La built-in function <code>type()</code> ritorna il tipo di oggetto."
   ]
  },
  {
   "cell_type": "code",
   "execution_count": 6,
   "id": "dffb7d26-0b99-460f-8310-ccee0a74a57a",
   "metadata": {},
   "outputs": [
    {
     "data": {
      "text/plain": [
       "int"
      ]
     },
     "execution_count": 6,
     "metadata": {},
     "output_type": "execute_result"
    }
   ],
   "source": [
    "type(3) # Check istanza"
   ]
  },
  {
   "cell_type": "code",
   "execution_count": 7,
   "id": "f32fb140-986a-41ae-a2a7-e565e565234c",
   "metadata": {},
   "outputs": [
    {
     "data": {
      "text/plain": [
       "int"
      ]
     },
     "execution_count": 7,
     "metadata": {},
     "output_type": "execute_result"
    }
   ],
   "source": [
    "x = 3\n",
    "type(x) # Check istanza assegnata a identificatore"
   ]
  },
  {
   "cell_type": "code",
   "execution_count": 8,
   "id": "547268e0-bfad-4ad8-a642-252db06fd9bd",
   "metadata": {},
   "outputs": [
    {
     "data": {
      "text/plain": [
       "int"
      ]
     },
     "execution_count": 8,
     "metadata": {},
     "output_type": "execute_result"
    }
   ],
   "source": [
    "y = int('3')\n",
    "type(y) # Check istanza creata con costruttore"
   ]
  },
  {
   "cell_type": "code",
   "execution_count": 9,
   "id": "e2ac38c5-e0dc-45bc-a788-0f5c1628194d",
   "metadata": {},
   "outputs": [
    {
     "data": {
      "text/plain": [
       "float"
      ]
     },
     "execution_count": 9,
     "metadata": {},
     "output_type": "execute_result"
    }
   ],
   "source": [
    "type(1.5) # Check istanza"
   ]
  },
  {
   "cell_type": "code",
   "execution_count": 10,
   "id": "090d97ae-79c1-418e-a658-b0c60f18a9c6",
   "metadata": {},
   "outputs": [
    {
     "data": {
      "text/plain": [
       "float"
      ]
     },
     "execution_count": 10,
     "metadata": {},
     "output_type": "execute_result"
    }
   ],
   "source": [
    "x = 1.5\n",
    "type(x) # Check istanza assegnata a identificatore"
   ]
  },
  {
   "cell_type": "code",
   "execution_count": 11,
   "id": "a340b406-93da-4f29-8419-ea4e5c8097f4",
   "metadata": {},
   "outputs": [
    {
     "data": {
      "text/plain": [
       "float"
      ]
     },
     "execution_count": 11,
     "metadata": {},
     "output_type": "execute_result"
    }
   ],
   "source": [
    "y = float('1.5')\n",
    "type(y) # Check istanza creata con costruttore"
   ]
  },
  {
   "cell_type": "markdown",
   "id": "e6ac5d16-4c44-4221-8615-6926457befa8",
   "metadata": {},
   "source": [
    "L'interprete si comporta come una semplice **calcolatrice**, è possibile scrivere un'espressione e l’interprete restituirà il valore della stessa. La sintassi dell'espressione è semplice e gli operatori <code>+, -, *, /</code> funzionano esattamente come nella maggior parte degli altri linguaggi; \n",
    "</br>le parentesi <code>( )</code> possono essere utilizzate per il raggruppamento.\n",
    "\n",
    "<div class=\"alert alert-warning\">\n",
    "   Python rispetta l'ordine convenzionale delle operazioni.\n",
    "</div>"
   ]
  },
  {
   "cell_type": "code",
   "execution_count": 12,
   "id": "8a328c06-5bb4-4917-875b-063a88dc1017",
   "metadata": {},
   "outputs": [
    {
     "data": {
      "text/plain": [
       "4"
      ]
     },
     "execution_count": 12,
     "metadata": {},
     "output_type": "execute_result"
    }
   ],
   "source": [
    "2+2"
   ]
  },
  {
   "cell_type": "code",
   "execution_count": 13,
   "id": "5b204b39-1ab0-4140-ae76-35e710fa3775",
   "metadata": {},
   "outputs": [
    {
     "data": {
      "text/plain": [
       "20"
      ]
     },
     "execution_count": 13,
     "metadata": {},
     "output_type": "execute_result"
    }
   ],
   "source": [
    "50 - 5 * 6"
   ]
  },
  {
   "cell_type": "code",
   "execution_count": 14,
   "id": "ffe8a356-3c6a-44dd-87f2-4a326a75cccb",
   "metadata": {},
   "outputs": [
    {
     "data": {
      "text/plain": [
       "3.3333333333333335"
      ]
     },
     "execution_count": 14,
     "metadata": {},
     "output_type": "execute_result"
    }
   ],
   "source": [
    "(50 - 5 * 6) / 6"
   ]
  },
  {
   "cell_type": "code",
   "execution_count": 15,
   "id": "aedfb5e2-6088-4f0e-86f4-14200aeab45a",
   "metadata": {},
   "outputs": [
    {
     "data": {
      "text/plain": [
       "2.0"
      ]
     },
     "execution_count": 15,
     "metadata": {},
     "output_type": "execute_result"
    }
   ],
   "source": [
    "4 / 2 # La divisione ritorna sempre il numero in virgola mobile"
   ]
  },
  {
   "cell_type": "markdown",
   "id": "d00426d6-2f16-4193-9223-596f88b4689f",
   "metadata": {},
   "source": [
    "### <code>None</code> - Bool <a id='3.3'></a>\n",
    "\n",
    "#### <code>None</code> <a id='3.3.1'></a>\n",
    "None è l’unica istanza della classe *NoneType*, può essere utilizzato come valore nullo da assegnare ad un identiﬁcatore (in altri linguaggi si utilizza la keyword </code>null</code>) ed è il valore restituito di default dalle funzioni"
   ]
  },
  {
   "cell_type": "code",
   "execution_count": 16,
   "id": "a2682905-dfc5-4a48-be7b-82c4d9793211",
   "metadata": {},
   "outputs": [
    {
     "data": {
      "text/plain": [
       "NoneType"
      ]
     },
     "execution_count": 16,
     "metadata": {},
     "output_type": "execute_result"
    }
   ],
   "source": [
    "x = None\n",
    "type(x)"
   ]
  },
  {
   "cell_type": "code",
   "execution_count": 17,
   "id": "2c3f78b9-0923-42e8-b943-09a424603be7",
   "metadata": {},
   "outputs": [
    {
     "name": "stdout",
     "output_type": "stream",
     "text": [
      "None\n"
     ]
    }
   ],
   "source": [
    "def no_return():\n",
    "    pass\n",
    "\n",
    "print(no_return())"
   ]
  },
  {
   "cell_type": "markdown",
   "id": "196fb239-1c56-4ef5-b320-668017573325",
   "metadata": {},
   "source": [
    "#### Bool <a id='3.3.2'></a>\n",
    "La classe *bool* viene utilizzata per manipolare i valori logici (booleani) e le uniche due istanze di quella classe sono <code>True</code> e <code>False</code>. \n",
    "    </br><code>True</code> equivale a $1$\n",
    "    </br><code>False</code> equivale a $0$"
   ]
  },
  {
   "cell_type": "code",
   "execution_count": 18,
   "id": "0a85b436-78d4-4850-ab16-eeb4ecb05835",
   "metadata": {},
   "outputs": [
    {
     "data": {
      "text/plain": [
       "bool"
      ]
     },
     "execution_count": 18,
     "metadata": {},
     "output_type": "execute_result"
    }
   ],
   "source": [
    "type(True)"
   ]
  },
  {
   "cell_type": "code",
   "execution_count": 19,
   "id": "4fc4c3d9-a7a9-4322-927c-fac7fd4352ef",
   "metadata": {},
   "outputs": [
    {
     "data": {
      "text/plain": [
       "bool"
      ]
     },
     "execution_count": 19,
     "metadata": {},
     "output_type": "execute_result"
    }
   ],
   "source": [
    "type(False)"
   ]
  },
  {
   "cell_type": "code",
   "execution_count": 20,
   "id": "3deadba9-4649-426b-b653-320fab522ebb",
   "metadata": {},
   "outputs": [
    {
     "data": {
      "text/plain": [
       "True"
      ]
     },
     "execution_count": 20,
     "metadata": {},
     "output_type": "execute_result"
    }
   ],
   "source": [
    "True == 1 and False == 0"
   ]
  },
  {
   "cell_type": "code",
   "execution_count": 21,
   "id": "8666fff8-ccb1-4489-9280-a0a457401098",
   "metadata": {},
   "outputs": [
    {
     "data": {
      "text/plain": [
       "0"
      ]
     },
     "execution_count": 21,
     "metadata": {},
     "output_type": "execute_result"
    }
   ],
   "source": [
    "(True + 3) * False"
   ]
  },
  {
   "cell_type": "markdown",
   "id": "fbc583e8-3555-4520-ad14-b972c396276b",
   "metadata": {},
   "source": [
    "### Stringhe <a id='3.4'></a>\n",
    "Le stringhe sono sequenze immutabili di caratteri testuali sulle quali è possibile iterare; queste possono essere deﬁnite indiﬀerentemente con *single quote* <code>‘ ‘</code> o con le *double quote* <code>“ “</code>. "
   ]
  },
  {
   "cell_type": "code",
   "execution_count": 22,
   "id": "50f33579-be69-4f50-aba8-5e0980ed9525",
   "metadata": {},
   "outputs": [
    {
     "data": {
      "text/plain": [
       "True"
      ]
     },
     "execution_count": 22,
     "metadata": {},
     "output_type": "execute_result"
    }
   ],
   "source": [
    "\"hello\" == 'hello' # Stessa stringa definita con single e double quote"
   ]
  },
  {
   "cell_type": "code",
   "execution_count": 23,
   "id": "7aae77f5-df2d-4b21-9bfa-334d6e04f4b7",
   "metadata": {},
   "outputs": [
    {
     "name": "stdout",
     "output_type": "stream",
     "text": [
      "hello\n"
     ]
    }
   ],
   "source": [
    "print('hello') # Funzione built-in che visualizza la stringa sul file del flusso di teso"
   ]
  },
  {
   "cell_type": "code",
   "execution_count": 24,
   "id": "f1b8224c-d739-4389-bb36-b70ae6064ed0",
   "metadata": {},
   "outputs": [
    {
     "name": "stdout",
     "output_type": "stream",
     "text": [
      "h\n",
      "e\n",
      "l\n",
      "l\n",
      "o\n"
     ]
    }
   ],
   "source": [
    "for letter in 'hello': # Iterazione su una stringa con for-loop\n",
    "    print(letter)"
   ]
  },
  {
   "cell_type": "markdown",
   "id": "1f802024-695e-43ad-8a32-53e7a2b9a104",
   "metadata": {},
   "source": [
    "#### Funzione <code>print()</code> <a id='3.4.1'></a>\n",
    "La funzione <code>print()</code> permette di stampare oggetti in output (tipicamente su schermo, ma anche su ﬁle o altri stream). \n",
    "</br>Gli oggetti inseriti nella funzione vengono convertiti in stringhe e scritti sullo stream. \n",
    "</br>È possibile inserire espressioni matematiche, variabili ed altro all’interno di print e il risultato sarà stampato."
   ]
  },
  {
   "cell_type": "code",
   "execution_count": 25,
   "id": "94eefaa3-fb52-4ff3-a8e0-c998b9b20f7f",
   "metadata": {},
   "outputs": [
    {
     "name": "stdout",
     "output_type": "stream",
     "text": [
      "Python print function\n"
     ]
    }
   ],
   "source": [
    "print(\"Python print function\") # Stampa di una stringa"
   ]
  },
  {
   "cell_type": "code",
   "execution_count": 26,
   "id": "1d67f59a-9624-435e-9f16-80f041b56d95",
   "metadata": {},
   "outputs": [
    {
     "name": "stdout",
     "output_type": "stream",
     "text": [
      "10\n"
     ]
    }
   ],
   "source": [
    "print(3+7) # Stampa del risultato di un'espressione algebrica"
   ]
  },
  {
   "cell_type": "code",
   "execution_count": 27,
   "id": "56807729-605e-4d67-9754-2dd4e6850e72",
   "metadata": {},
   "outputs": [
    {
     "name": "stdout",
     "output_type": "stream",
     "text": [
      "string\n"
     ]
    }
   ],
   "source": [
    "a = 'string'\n",
    "print(a) # Stampa del valore di una variabile"
   ]
  },
  {
   "cell_type": "markdown",
   "id": "09cbe1fe-8f74-4899-9907-6a6c0a73c392",
   "metadata": {},
   "source": [
    "<code>print()</code> ha diversi parametri, tra i più comunemente usati si deve sicuramente menzionare *end*.\n",
    ">*end* &#8702; il valore di default è <code>\\n</code> (escape sequence: new line), si può sostituire con qualsiasi stringa."
   ]
  },
  {
   "cell_type": "code",
   "execution_count": 28,
   "id": "cbec0c02-1d51-4b60-b48d-2cbe33eb817c",
   "metadata": {},
   "outputs": [
    {
     "name": "stdout",
     "output_type": "stream",
     "text": [
      "prima riga\n",
      "seconda riga \tsempre seconda riga\ttab!\n",
      "\n",
      "terza riga\t...fine terza riga\n"
     ]
    }
   ],
   "source": [
    "print(\"prima riga\")              # end = default('\\n')\n",
    "print(\"seconda riga\", end = ' ') # end = ' ', evita di creare una new line\n",
    "print(\"\\tsempre seconda riga\", end = '\\ttab!\\n') # Stampa sulla stessa riga della precedente\n",
    "print() # Nessun oggetto, stampa una new line\n",
    "print(\"terza riga\", end = \"\\t...fine terza riga\\n\")"
   ]
  },
  {
   "cell_type": "markdown",
   "id": "6906334d-fd6f-47ee-994a-b1df058b22db",
   "metadata": {},
   "source": [
    "#### Slicing <a id='3.4.2'></a>\n",
    "Python oﬀre una notazione chiamata *slicing* (to slice = aﬀettare) che permette di accedere ad una serie di elementi di una sequenza ordinata (stringa, lista, etc.) attraverso il loro *index* (indice). Il primo elemento corrispondente ha index $0$, il secondo $1$ e così via.\n",
    "\n",
    "La sintassi utilizza le parentesi quadre con i seguenti parametri: <code>[{start}: stop {: step}]</code>\n",
    "- **start** &#8702; indice di partenza *[opzionale]*, 0 di defualt.\n",
    "    </br>Es. <code>\"casa\"[:3] == \"cas\"</code>\n",
    "  \n",
    "- **stop** &#8702; indice di arrivo NON compreso, se non specificato, lo slicing arriva fino alla fine dell’oggetto.\n",
    "    </br>Es. <code>\"casa\" [2:] == \"sa\"</code>\n",
    "    \n",
    "    \n",
    "- **step** &#8702; differenza di index tra un elemento e il successivo *[opzionale]*, 1 di default (tutti gli elementi compresi tra **start** e **stop** *[non compreso]*)\n",
    "    </br>Es. <code>\"abcdefg\"[0:5:2] == \"ace\"</code>\n"
   ]
  },
  {
   "cell_type": "code",
   "execution_count": 29,
   "id": "67d82ff9-9856-4ad4-9a99-24e381e0fd5f",
   "metadata": {},
   "outputs": [
    {
     "data": {
      "text/plain": [
       "'cas'"
      ]
     },
     "execution_count": 29,
     "metadata": {},
     "output_type": "execute_result"
    }
   ],
   "source": [
    " \"casa\"[:3]"
   ]
  },
  {
   "cell_type": "code",
   "execution_count": 30,
   "id": "052e964d-fe30-4d16-8e13-e620761758eb",
   "metadata": {},
   "outputs": [
    {
     "data": {
      "text/plain": [
       "'sa'"
      ]
     },
     "execution_count": 30,
     "metadata": {},
     "output_type": "execute_result"
    }
   ],
   "source": [
    "\"casa\" [2:]"
   ]
  },
  {
   "cell_type": "code",
   "execution_count": 31,
   "id": "7e95f81d-023d-4323-8faa-9f0cf2750507",
   "metadata": {},
   "outputs": [
    {
     "data": {
      "text/plain": [
       "'ace'"
      ]
     },
     "execution_count": 31,
     "metadata": {},
     "output_type": "execute_result"
    }
   ],
   "source": [
    "\"abcdefg\"[0:5:2]"
   ]
  },
  {
   "cell_type": "markdown",
   "id": "ba093abc-b281-46c7-9da8-2cecb43a3d9a",
   "metadata": {},
   "source": [
    "##### *Esempio:*"
   ]
  },
  {
   "cell_type": "code",
   "execution_count": 32,
   "id": "df059c2f-4d8c-4397-b62b-e9afa85adfcb",
   "metadata": {},
   "outputs": [
    {
     "data": {
      "text/plain": [
       "'S'"
      ]
     },
     "execution_count": 32,
     "metadata": {},
     "output_type": "execute_result"
    }
   ],
   "source": [
    "s = \"Slicing test\"\n",
    "s[0] # Accesso ad un singolo elemento"
   ]
  },
  {
   "cell_type": "code",
   "execution_count": 33,
   "id": "7f2e50b0-f0a8-40ea-a436-0333d97b042e",
   "metadata": {},
   "outputs": [
    {
     "data": {
      "text/plain": [
       "'t'"
      ]
     },
     "execution_count": 33,
     "metadata": {},
     "output_type": "execute_result"
    }
   ],
   "source": [
    "s[-1] # Accesso ad un singolo elemento (index negativo)"
   ]
  },
  {
   "cell_type": "code",
   "execution_count": 34,
   "id": "38df2ccd-e15e-4ac7-9f93-374538d9cc01",
   "metadata": {},
   "outputs": [
    {
     "data": {
      "text/plain": [
       "'Slic'"
      ]
     },
     "execution_count": 34,
     "metadata": {},
     "output_type": "execute_result"
    }
   ],
   "source": [
    "s[:4] # Slice dall'inizio all'elemento con index 4 (non compreso)"
   ]
  },
  {
   "cell_type": "code",
   "execution_count": 35,
   "id": "e6cc99d8-b6db-4e04-b441-371de6a456ac",
   "metadata": {},
   "outputs": [
    {
     "data": {
      "text/plain": [
       "'Siigts'"
      ]
     },
     "execution_count": 35,
     "metadata": {},
     "output_type": "execute_result"
    }
   ],
   "source": [
    "s[::2] # Slice di tutti gli elemnti con index pari"
   ]
  },
  {
   "cell_type": "code",
   "execution_count": 36,
   "id": "e6c53f47-4d65-465a-9fee-4a9c643ed3df",
   "metadata": {},
   "outputs": [
    {
     "data": {
      "text/plain": [
       "'tset gnicilS'"
      ]
     },
     "execution_count": 36,
     "metadata": {},
     "output_type": "execute_result"
    }
   ],
   "source": [
    "s[::-1] # Steo negativo per scorrere l'oggetto in senso inverso"
   ]
  },
  {
   "cell_type": "markdown",
   "id": "70e96db3-e8bb-4a6a-bbc5-bf839dbefead",
   "metadata": {},
   "source": [
    "## Operatori <a id='4'></a>\n",
    "* Gli **_operatori_**:\n",
    "    - sono utilizzati per eseguire operazioni su valori e variabili\n",
    "    - possono manipolare singoli oggetti e restituire un risultato\n",
    "    - sono rappresentati da parole chiave o caratteri speciali\n",
    "* Gli **_elementi_** coinvolti sono indicati come *operandi* o *arguments*.\n",
    "\n",
    "### Operatori Aritmetici <a id='4.1'></a>\n",
    "Gli operatori aritmetici sono usati con valori numerici per eseguire operazioni matematiche comuni.\n",
    "| Operatore | Nome | Esempio |\n",
    "|:----------|:-----|:--------|\n",
    "| <code>+</code> | Addizione | <code>3 + 2 = 5</code> |\n",
    "| <code>-</code> | Sottrazione | <code>3 - 2 = 1</code> |\n",
    "| <code>*</code> | Moltiplicazione | <code>3 * 2 = 6</code> |\n",
    "| <code>/</code> | Divisione | <code>3 / 2 = 1.5</code> |\n",
    "| <code>//</code> | Floor Division | <code>3 // 2 = 1</code> |\n",
    "| <code>%</code> | Modulo (restituisce il resto) | <code>3 % 2 = 1</code> |\n",
    "| <code>**</code> | Potenza | <code>3 ** 2 = 9</code> |\n",
    "\n",
    "### Operatori di Assegnamento <a id='4.2'></a>\n",
    "Gli operatori di assegnamento (*augmented assignment*) sono utilizzati per assegnare istanze agli identiﬁcatori.\n",
    "| Operatore | Nome | Esempio | Uguale a |\n",
    "|:----------|:-----|:--------|:---------|\n",
    "| <code>=</code> | Uguaglianza | <code>x = 5</code> | <code>x = 5</code>|\n",
    "| <code>+=</code> | Addizione | <code>x += 5</code> | <code>x = x + 5</code> |\n",
    "| <code>-=</code> | Sottrazione | <code>x -= 5</code> | <code>x = x - 5</code> |\n",
    "| <code>*=</code> | Moltiplicazione | <code>x *= 5</code> | <code>x = x * 5</code> |\n",
    "| <code>/=</code> | Divisione | <code>x /= 5</code> | <code>x = x / 5</code> |\n",
    "| <code>//=</code> | Floor Division | <code>x //= 5</code> | <code>x = x // 5</code> |\n",
    "| <code>%=</code> | Modulo (restituisce il resto) | <code>x %= 5</code> | <code>x = x % 5</code> |\n",
    "| <code>**=</code> | Potenza | <code>x **= 5</code> | <code>x = x ** 5</code> |\n",
    "\n",
    "### Operatori di Confronto <a id='4.3'></a>\n",
    "Gli operatori di confronto sono utilizzati per comparare due valori.\n",
    "| Operatore | Nome | Esempio |\n",
    "|:----------|:-----|:--------|\n",
    "| <code>==</code> | Uguale | <code>x == y</code> |\n",
    "| <code>!=</code> | Non uguale | <code>x != y</code> |\n",
    "| <code>></code> | Maggiore di | <code>x > y</code> |\n",
    "| <code><</code> | Minore di | <code>x < y</code> |\n",
    "| <code>>=</code> | Maggiore/Uguale | <code>x >= y</code> |\n",
    "| <code><=</code> | Minore/Uguale | <code>x <= y</code> |\n",
    "    \n",
    "A diﬀerenza di altri linguaggi, Python oﬀre la possibilità di concatenare gli operatori di confronto:\n",
    "    \n",
    "##### *Esempio:*\n",
    "Prediamo in considerazione la condizone: <code>a < b < c</code>\n",
    "</br>La sintassi più comune è: <code>a < b and b < c</code>\n",
    "</br>Python offre la possibilità di scrivere direttamente <code>a < b < c</code>."
   ]
  },
  {
   "cell_type": "code",
   "execution_count": 37,
   "id": "7a3098aa-6ae0-41d7-aeb2-92edd16f6b8e",
   "metadata": {},
   "outputs": [
    {
     "data": {
      "text/plain": [
       "True"
      ]
     },
     "execution_count": 37,
     "metadata": {},
     "output_type": "execute_result"
    }
   ],
   "source": [
    "2 < 5 and 5 < 7"
   ]
  },
  {
   "cell_type": "code",
   "execution_count": 38,
   "id": "b77fe7d4-214b-4380-94d5-d3aaa8907327",
   "metadata": {},
   "outputs": [
    {
     "data": {
      "text/plain": [
       "True"
      ]
     },
     "execution_count": 38,
     "metadata": {},
     "output_type": "execute_result"
    }
   ],
   "source": [
    "2 < 5 < 7"
   ]
  },
  {
   "cell_type": "code",
   "execution_count": 39,
   "id": "fd67af2a-4223-4d43-821a-ce21cdf53b38",
   "metadata": {},
   "outputs": [
    {
     "data": {
      "text/plain": [
       "False"
      ]
     },
     "execution_count": 39,
     "metadata": {},
     "output_type": "execute_result"
    }
   ],
   "source": [
    "2 < 5 < 4"
   ]
  },
  {
   "cell_type": "markdown",
   "id": "8e5dc3e8-f161-4170-a226-cb5000351180",
   "metadata": {},
   "source": [
    "### Operatori Logici <a id='4.4'></a>\n",
    "Gli operatori logici sono utilizzati per combinare dichiarazioni condizionali.\n",
    "| Operatore | Descrizione | Esempio |\n",
    "|:----------|:------------|:--------|\n",
    "| <code>and</code> | Ritorna <code>True</code> se entrambe le dichiarazioni sono vere | <code>x < 5 and x < 10</code> |\n",
    "| <code>or</code> | Ritorna <code>True</code> se una delle due dichiarazioni è vera | <code>x < 5 or x < 4</code> |\n",
    "| <code>not</code> | Inverte il risultato, riotrna <code>False</code> se il risultato è vero | <code>not x > 5</code> |\n",
    "\n",
    "### Operatori di Identità <a id='4.5'></a>\n",
    "Gli operatori di identità sono usati per confrontare gli oggetti, non per veriﬁcare se i valori sono uguali, ma se sono lo stesso oggetto (che occupa la stessa locazione nella memoria).\n",
    "| Operatore | Descrizione | Esempio |\n",
    "|:----------|:------------|:--------|\n",
    "| <code>is</code> | Ritorna <code>True</code> se gli oggetti confrontati SONO lo stesso oggetto | <code>x is y</code> |\n",
    "| <code>is not</code> | Ritorna <code>True</code> se gli oggetti comparati NON SONO lo stesso oggetto | <code>x is not y</code> |\n",
    "\n",
    "### Operatori di Appartenenza <a id='4.6'></a>\n",
    "Gli operatori di appartenenza controllano l’appartenenza di un oggetto ad una sequenza come una *lista*, una *stringa* o una *tupla*.\n",
    "| Operatore | Descrizione | Esempio |\n",
    "|:----------|:------------|:--------|\n",
    "| <code>in</code> | Ritorna <code>True</code> se un oggetto con un determinato valore è presente nella sequenza | <code>x in y</code> |\n",
    "| <code>not in</code> | Ritorna <code>True</code> se un oggetto con un determinato valore NON è presente nella sequenza | <code>x not in y</code>"
   ]
  },
  {
   "cell_type": "markdown",
   "id": "c3048770-da1f-45b2-828b-ffd669c8f9ad",
   "metadata": {},
   "source": [
    "## Dichiarazioni Condizionali <a id='5'></a>\n",
    "I costrutti condizionali forniscono un modo per eseguire un blocco di codice scelto in base alla valutazione in fase di esecuzione di una o più espressioni booleane.\n",
    "\n",
    "<div class=\"alert alert-warning\">\n",
    "    A diﬀerenza di altri linguaggi, Python si basa su l'indentazione, usando 4 spazi, per deﬁnire i blocchi di codice.\n",
    "</div>\n",
    "\n",
    "    if condizione:\n",
    "    ----primo_blocco\n",
    "      ↳ 4 spazi\n",
    "        \n",
    "    if prima condizione:\n",
    "        primo_blocco\n",
    "    elif seconda condizione:\n",
    "        secondo_blocco\n",
    "    elif terza condizione:\n",
    "        terzo_blocco\n",
    "    else:\n",
    "        quarto_blocco\n",
    "        \n",
    "### Loop <a id='5.1'></a>\n",
    "Python utilizza due tipi di *loop* :\n",
    "* <code>while</code>\n",
    "* <code>for</code>\n",
    "\n",
    "#### <code>while</code> Loop <a id='5.1.1'></a>\n",
    "Il *while loop* esegue un blocco di codice fintanto che una condizione è vera."
   ]
  },
  {
   "cell_type": "code",
   "execution_count": 40,
   "id": "22c12124-7c4b-4820-a461-0e05bde5834a",
   "metadata": {},
   "outputs": [
    {
     "name": "stdout",
     "output_type": "stream",
     "text": [
      "1\n",
      "2\n",
      "3\n",
      "4\n",
      "5\n"
     ]
    }
   ],
   "source": [
    "i = 1\n",
    "\n",
    "while i < 6:\n",
    "    print(i)\n",
    "    i += 1 # IMPORTANTE!"
   ]
  },
  {
   "cell_type": "markdown",
   "id": "80c290f1-2c7f-4112-ab65-c0ea9261e28d",
   "metadata": {},
   "source": [
    "<div class=\"alert alert-warning\">\n",
    "    <strong>IMPORTANTE!</strong> incrementare <code>i</code> evita di creare un loop infinito.\n",
    "</div>\n",
    "\n",
    "#### <code>for</code> Loop <a id='5.1.2'></a>\n",
    "Il *for loop* è uno strumento utile per iterare su una *serie* di elementi. La sintassi del *for loop* può essere usata su qualsiasi struttura iterabile (*liste, tuple, stringhe, set, dizionari, file*).\n",
    "\n",
    "<code>primes = [2, 3, 5, 7]</code> &#8594; Struttura iterbaile (*lista*) con identificatore <code>primes</code>\n",
    "\n",
    "\n",
    "<code>for prime in primes:</code> &#8594; <code>prime</code> è l'identificatore assegnato ad ogni passaggio al rispettivo elemento\n",
    "</br><code>    print(prime)</code>\n",
    "</br>&nbsp;&nbsp;&nbsp;&nbsp;&nbsp;&nbsp;&nbsp;&nbsp;&nbsp;&nbsp;&nbsp;&nbsp;&nbsp;&nbsp;&nbsp;\n",
    "&#8627;Il blocco di codice viene eseguito una volta per ciascun elemento dell'oggetto iterabile"
   ]
  },
  {
   "cell_type": "code",
   "execution_count": 41,
   "id": "278d3927-2c38-4713-a44f-2636251f86a5",
   "metadata": {},
   "outputs": [
    {
     "name": "stdout",
     "output_type": "stream",
     "text": [
      "2\n",
      "3\n",
      "5\n",
      "7\n"
     ]
    }
   ],
   "source": [
    "primes = [2, 3, 5, 7] \n",
    "\n",
    "for prime in primes:\n",
    "    print(prime)\n",
    "    "
   ]
  },
  {
   "cell_type": "markdown",
   "id": "1174245d-684c-4bf6-9b45-f0ee8ddba50b",
   "metadata": {},
   "source": [
    "###  <code>break</code> - <code>continue</code> <a id='5.2'></a>\n",
    "\n",
    "#### <code>break</code> <a id='5.2.1'></a>\n",
    "La keyword *break* viene usata per sucire da un *for loop* o un *while loop* anche se l'iterazione sugli elementi non è finita o anche se la condizione è rispettata."
   ]
  },
  {
   "cell_type": "code",
   "execution_count": 42,
   "id": "0ed69893-03af-483c-a3d7-c554a13a4843",
   "metadata": {},
   "outputs": [
    {
     "name": "stdout",
     "output_type": "stream",
     "text": [
      "0\n",
      "1\n",
      "2\n",
      "3\n",
      "4\n"
     ]
    }
   ],
   "source": [
    "i = 0\n",
    "\n",
    "while i < 7:\n",
    "    if i == 5:\n",
    "        break\n",
    "    print(i)\n",
    "    i += 1"
   ]
  },
  {
   "cell_type": "markdown",
   "id": "e6baddb5-44fe-4415-8286-6d6a7fc51651",
   "metadata": {},
   "source": [
    "#### <code>continue</code> <a id='5.2.2'></a>\n",
    "La keyword *continue* viene usata per saltare il blocco corrente di codice e tornare alla dichiarazione del *for loop* o *while loop*."
   ]
  },
  {
   "cell_type": "code",
   "execution_count": 43,
   "id": "8ca9cd22-49a8-444f-bee7-b5bfcdcfd350",
   "metadata": {},
   "outputs": [
    {
     "name": "stdout",
     "output_type": "stream",
     "text": [
      "c\n",
      "a\n",
      "s\n",
      "a\n"
     ]
    }
   ],
   "source": [
    "for l in \"casba\":\n",
    "    if l == \"b\":\n",
    "        continue\n",
    "    print(l)"
   ]
  },
  {
   "cell_type": "markdown",
   "id": "8adb2b3e-ceea-4b6c-b520-0f7275c5e241",
   "metadata": {},
   "source": [
    "## Exception Handling <a id='6'></a>\n",
    "Quando si verifica un errore (o “eccezione”, come viene chiamata in Python) l’esecuzione del codice si interrompe e Python genera un messaggio d’errore. Queste eccezioni possono essere gestite usando le clausole <code>try</code> ed <code>except</code>.\n",
    "\n",
    "La keyword <code>except</code> gestisce qualsiasi tipo di eccezione. Se si vuole trattare le possibili eccezioni diversamente, si fa eseguire ad <code>except</code> il tipo di errore. Tra i più comuni ci sono **AttributeError**, **IndexError**, **KeyError**, **NameError**, **TypeError**, **ValueError**, etc. \n",
    "\n",
    "**TypeError:** Errore generato quando in'operazione o una funzione sono applicate ad un oggetto di tipo non appropriato"
   ]
  },
  {
   "cell_type": "code",
   "execution_count": 44,
   "id": "9740b74c-310d-448a-8dc0-05500ec253e6",
   "metadata": {},
   "outputs": [
    {
     "ename": "TypeError",
     "evalue": "unsupported operand type(s) for +: 'int' and 'str'",
     "output_type": "error",
     "traceback": [
      "\u001b[0;31m---------------------------------------------------------------------------\u001b[0m",
      "\u001b[0;31mTypeError\u001b[0m                                 Traceback (most recent call last)",
      "Cell \u001b[0;32mIn [44], line 1\u001b[0m\n\u001b[0;32m----> 1\u001b[0m \u001b[38;5;241m1\u001b[39m \u001b[38;5;241m+\u001b[39m \u001b[38;5;124m'\u001b[39m\u001b[38;5;124ma\u001b[39m\u001b[38;5;124m'\u001b[39m\n",
      "\u001b[0;31mTypeError\u001b[0m: unsupported operand type(s) for +: 'int' and 'str'"
     ]
    }
   ],
   "source": [
    "1 + 'a'"
   ]
  },
  {
   "cell_type": "code",
   "execution_count": null,
   "id": "7e2ca5d0-eeec-4ef9-b9e6-24fac099ee93",
   "metadata": {},
   "outputs": [],
   "source": [
    "try:\n",
    "    1 + 'a'\n",
    "except:\n",
    "    print(\"Si è verificata un' eccezione.\")"
   ]
  },
  {
   "cell_type": "markdown",
   "id": "f7c75606-1fc1-4fbb-b2ab-44e715aa5474",
   "metadata": {},
   "source": [
    "### <code>else</code> <a id='6.1'></a>\n",
    "La dichiarazione <code>try</code>/<code>except</code> ha una clausola <code>else</code> opzionale che, quando presente, deve eseguire tutte le clausole <code>except</code>. È utile per inserire codice che deve essere eseguito se la clausola <code>try</code> non genera un'eccezione.\n",
    "\n",
    "<code>try:</code> &#8594; Tentativo di aprire *test.txt*\n",
    "</br><code>    f = open('test.txt')</code>\n",
    "</br><code>except FileNotFoundError :</code> &#8594; Gestione eccezione\n",
    "</br><code>    print(f\"{f.name} non trovato\")</code>\n",
    "</br><code>else:</code> &#8594; Se non viene riscontrata nessuna eccezione, viene eseguita la clausola <code>else</code>\n",
    "</br><code>    print(\"File aperto correttamente\")</code>"
   ]
  },
  {
   "cell_type": "code",
   "execution_count": null,
   "id": "e995eec9-2ced-4251-8de7-dfd06d2c04d8",
   "metadata": {},
   "outputs": [],
   "source": [
    "try: \n",
    "    f = open('test.txt')\n",
    "except FileNotFoundError: \n",
    "    print(f\"{f.name} non trovato\")\n",
    "else:\n",
    "    print(\"File aperto correttamente\")"
   ]
  },
  {
   "cell_type": "markdown",
   "id": "a6c40e65-b1b0-4e97-96e5-3e3d9c38b25d",
   "metadata": {},
   "source": [
    "### <code>finally</code> <a id='6.2'></a>\n",
    "Quando si vuole eseguire del codice a prescindere dal risultato di <code>try</code>/<code>except</code>, si aggiunge la clausola <code>finally</code>, questo codice verrà SEMPRE eseguito in qualsiasi circostanza.\n",
    "\n",
    "\n",
    "<code>f = open('test.txt', 'x')</code> &#8594; Creazione nuovo file\n",
    "</br>\n",
    "</br><code>try:</code>\n",
    "</br><code>    f.write(\"Lorem ipsum dolor sit amet\")</code> &#8594; Tentativo di scrittura\n",
    "</br><code>except:</code>\n",
    "</br><code>    print(\"Errore durante la scrittura di {f.name}\".format())</code> &#8594; Gestione eccezioni\n",
    "</br><code>else:</code> &#8594; Clausola eseguita se non si presentano eccezioni\n",
    "</br><code>    print(\"Scrittura in corso\")</code>\n",
    "</br><code>finally:</code> &#8594; Sempre eseguito\n",
    "</br><code>    print(\"Chiusura del file in corso\")</code>\n",
    "</br><code>    f.close()</code>"
   ]
  },
  {
   "cell_type": "code",
   "execution_count": 46,
   "id": "bd2d795b-95f5-47b5-8c8b-34523948ea96",
   "metadata": {},
   "outputs": [
    {
     "name": "stdout",
     "output_type": "stream",
     "text": [
      "Scrittura in corso\n",
      "Chiusura del file in corso\n"
     ]
    }
   ],
   "source": [
    "f = open('test.txt', 'x')\n",
    "\n",
    "try:\n",
    "    f.write(\"Lorem ipsum dolor sit amet\")\n",
    "except:\n",
    "    print(\"Errore durante la scrittura di {f.name}\".format())\n",
    "else:\n",
    "    print(\"Scrittura in corso\")\n",
    "finally:\n",
    "    print(\"Chiusura del file in corso\")\n",
    "    f.close()"
   ]
  },
  {
   "cell_type": "markdown",
   "id": "0e6f04ea-8bc1-427c-8c21-44f4c909239b",
   "metadata": {},
   "source": [
    "### <code>assert</code> <a id='6.3'></a>\n",
    "La keyword <code>assert</code> rappresenta un controllo di integrità che spesso si inserisce all'inizio di una funzione per veriﬁcare la validità dell'input e dopo una chiamata di funzione per veriﬁcare la validità dell’output. Quando incontra <code>assert</code>, Python valuta l'espressione dichiarata dopo la keyword che si spera sia vera. Se l'espressione è falsa, Python solleva un'eccezione **AssertionError**.\n",
    "</br>Sintassi: <code>assert Espressione[,Arguments]</code>\n",
    "\n",
    "\n",
    "##### *Esempio:*\n",
    "<code>assert isinstance(l, (int, float)), \"Input Errato\"</code>\n",
    "* Controlla che l'input della funzione sia un **int** o un **float** con la funzione built-in <code>isinsatnce()</code>\n",
    "* Messaggio di errore personalizzato passato come *argument*"
   ]
  },
  {
   "cell_type": "code",
   "execution_count": null,
   "id": "444c27cf-16ab-4804-9f95-8af819131f46",
   "metadata": {},
   "outputs": [],
   "source": [
    "def area_quadrato(l):\n",
    "    assert isinstance(l, (int, float)), \"Input Errato\"\n",
    "    return l ** 2\n",
    "\n",
    "area_quadrato(3.5)"
   ]
  },
  {
   "cell_type": "code",
   "execution_count": null,
   "id": "cb1bd9ae-bbd9-47f2-a02a-e0ba133dc087",
   "metadata": {},
   "outputs": [],
   "source": [
    "area_quadrato('a')"
   ]
  },
  {
   "cell_type": "markdown",
   "id": "e070952f-a2bd-4d02-b7b8-c62560a2d5c6",
   "metadata": {},
   "source": [
    "**AssertionError:** Sollevato solo con la seconda invocazione della funzione in quanro viene passata una stringa"
   ]
  },
  {
   "cell_type": "markdown",
   "id": "ce360252-5149-45d4-adf7-4bcecd941930",
   "metadata": {},
   "source": [
    "### <code>raise</code> <a id='6.4'></a>\n",
    "La dichiarazione <code>raise</code> permette di sollevare un’eccezione speciﬁca. Se si vuole determinare se è stata sollevata un'eccezione ma non si intende gestirla, la semplice dichiarazione della keyword <code>raise</code> consente di sollevare nuovamente l'eccezione."
   ]
  },
  {
   "cell_type": "code",
   "execution_count": null,
   "id": "0c8dc902-6203-402f-91f6-925c2fca625e",
   "metadata": {},
   "outputs": [],
   "source": [
    "try:\n",
    "    raise NameError(\"Eccezione sollevata\")\n",
    "except:\n",
    "    print(\"Eccezione gestita\")\n",
    "    raise"
   ]
  },
  {
   "cell_type": "markdown",
   "id": "7ba20632-cb53-4626-a6e0-a2c80b4b9ad7",
   "metadata": {},
   "source": [
    "## Esercizi <a id='7'></a>\n",
    "<div class=\"alert alert-block alert-info\">\n",
    "    <code>input()</code>\n",
    "    </br>Funzione che permette ad un utente di immettere una stringa durante l’esecuzione di uno script. \n",
    "    </br>I caratteri inseriti attraverso <code>input()</code> vengono SEMPRE convertiti da Python in *stringa*.\n",
    "</div>\n",
    "\n",
    "<a id='7.1'></a>\n",
    "1. Scrivi uno script che accetta un input consistente in un numero intero rappresentante un raggio, calcola l’area del rispettivo cerchio e stampa il risultato."
   ]
  },
  {
   "cell_type": "code",
   "execution_count": null,
   "id": "f19c8892-092e-429e-a659-828c385259dc",
   "metadata": {},
   "outputs": [],
   "source": []
  },
  {
   "cell_type": "markdown",
   "id": "a8614b10-92b0-488e-a358-5d5423d82022",
   "metadata": {},
   "source": [
    "<a id='7.2'></a>\n",
    "2. Scrivi uno script che accetta tre numeri interi. Se sono tutti diversi, stampa la somma dei tre; se due sono uguali, stampa il risultato della somma di quelli uguali divisi per il terzo; se tutti e tre sono uguali, stampa il risultato di $(n + n)^n$."
   ]
  },
  {
   "cell_type": "code",
   "execution_count": null,
   "id": "09dea27c-554d-489f-ab21-4a2e12ed2e99",
   "metadata": {},
   "outputs": [],
   "source": []
  },
  {
   "cell_type": "markdown",
   "id": "d96bb5f0-4065-4a80-9f25-4d0a873afa6a",
   "metadata": {},
   "source": [
    "<a id='7.3'></a>\n",
    "3. Scrivi uno script che accetta due numeri interi. Se valore di entrambi, la loro somma o la loro diﬀerenza è $5$, stampa <code>True</code>, altrimenti stampa <code>False</code>. Se gli input inseriti non sono numerici, stampa *“L’input deve essere un numero.”*."
   ]
  },
  {
   "cell_type": "code",
   "execution_count": null,
   "id": "bdcb8d91-394b-405d-9d9e-2363d488cc55",
   "metadata": {},
   "outputs": [],
   "source": []
  },
  {
   "cell_type": "markdown",
   "id": "23c4b081-fc84-4620-9a26-bdf143fea695",
   "metadata": {},
   "source": [
    "<a id='7.4'></a>\n",
    "4. Scrivi uno script che accetta un input con nome e cognome e stampa la stringa con i caratteri di *\"index”* dispari in ordine inverso."
   ]
  },
  {
   "cell_type": "code",
   "execution_count": null,
   "id": "ab61f5ff-845b-470f-81ac-02b602a7b908",
   "metadata": {},
   "outputs": [],
   "source": []
  },
  {
   "cell_type": "markdown",
   "id": "9a30ed0b-ac12-4182-907e-29f8cd9f8363",
   "metadata": {},
   "source": [
    "<a id='7.5'></a>\n",
    "5. Scrivi uno script che accetta un intero $n$, calcola e stampa il valore di $n + n*n + n*n*n$."
   ]
  },
  {
   "cell_type": "code",
   "execution_count": null,
   "id": "7b832e97-f9dd-47c0-86c8-670c00368b8f",
   "metadata": {},
   "outputs": [],
   "source": []
  },
  {
   "cell_type": "markdown",
   "id": "096242a1-82f1-467c-a52f-79c72aebb2ac",
   "metadata": {},
   "source": [
    "<a id='7.6'></a>\n",
    "6. Scrivi uno script che accetta una stringa e aggiunge *“Sono”* davanti alla stessa. Se la stringa comincia già con *“Sono”*, stampa la stringa inalterata."
   ]
  },
  {
   "cell_type": "code",
   "execution_count": null,
   "id": "2d69e4e2-ac10-4e52-bb77-a1571c3ff376",
   "metadata": {},
   "outputs": [],
   "source": []
  },
  {
   "cell_type": "markdown",
   "id": "12ffa92a-2d48-4685-9b8f-c9f004391ad7",
   "metadata": {},
   "source": [
    "<a id='7.7'></a>\n",
    "7. Scrivi uno script che calcoli la diﬀerenza tra un numero dato e $17$. Se il numero è minore di $17$, stampa il doppio della diﬀerenza assoluta (Python possiede la funzione <code>abs(n)</code> che ritorna il valore assoluto di un **int** o  di un **ﬂoat**)."
   ]
  },
  {
   "cell_type": "code",
   "execution_count": null,
   "id": "82f1747f-ce5a-4329-af5b-29efc25f3309",
   "metadata": {},
   "outputs": [],
   "source": []
  },
  {
   "cell_type": "markdown",
   "id": "0079318b-b36a-4fdd-bfc3-c07d1d66199b",
   "metadata": {},
   "source": [
    "<a id='7.8'></a>\n",
    "8. Dato un numero intero $n$, esegui le seguenti operazioni condizionali:\n",
    "    - se $n$ è dispari, stampa *“bizzarro”*\n",
    "    - se $n$ è pari e tra $2$ e $5$ (compresi), stampa *“non bizzarro”*\n",
    "    - se $n$ è pari e tra $6$ e $20$ (compresi), stampa *“bizzarro”*\n",
    "    - se $n$ è pari e più grande di $20$, stampa *“non bizzarro”*"
   ]
  },
  {
   "cell_type": "markdown",
   "id": "ecf5687e-b639-4d60-be20-8b7c87c8a98f",
   "metadata": {},
   "source": [
    "## Context Manager\n",
    "\n",
    "## Moduli\n",
    "\n",
    "## Strutture Dati"
   ]
  },
  {
   "cell_type": "code",
   "execution_count": null,
   "id": "2c73da45-7c44-40f9-90cf-758deeadc545",
   "metadata": {},
   "outputs": [],
   "source": []
  },
  {
   "cell_type": "markdown",
   "id": "c9caf289-f2af-4339-ae89-dc64ad35d73a",
   "metadata": {},
   "source": [
    "## Generatori\n",
    "\n",
    "## Syntax Comprehension\n",
    "\n",
    "## Stringhe, byte, unicode\n",
    "\n",
    "## Classi"
   ]
  },
  {
   "cell_type": "code",
   "execution_count": null,
   "id": "8bfe2244-fb7f-4e65-93c3-a2be8dc532a8",
   "metadata": {},
   "outputs": [],
   "source": []
  }
 ],
 "metadata": {
  "kernelspec": {
   "display_name": "Python 3 (ipykernel)",
   "language": "python",
   "name": "python3"
  },
  "language_info": {
   "codemirror_mode": {
    "name": "ipython",
    "version": 3
   },
   "file_extension": ".py",
   "mimetype": "text/x-python",
   "name": "python",
   "nbconvert_exporter": "python",
   "pygments_lexer": "ipython3",
   "version": "3.10.8"
  }
 },
 "nbformat": 4,
 "nbformat_minor": 5
}
