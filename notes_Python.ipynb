{
 "cells": [
  {
   "cell_type": "markdown",
   "id": "ee3ce804-ea6b-4495-a7da-ec5a254e2d71",
   "metadata": {},
   "source": [
    "# Python"
   ]
  },
  {
   "cell_type": "markdown",
   "id": "652de911-a0ea-4212-b534-01541ff1e9e5",
   "metadata": {},
   "source": [
    "## Struttura Lessicale\n",
    "La fine di una linea delimita la fine di uno statement. Se lo statement è più lungo di 80 caratteri utilizzo backslash \n",
    "<code> \\ </code> per continuare in una nuova linea. L’apertura di parentesi <code> ( [ { </code> determinano la fine dello statement solo alla loro chiusura (eventuali nuove linee vengono considerate un’unica linea logica senza l’utilizzo del backslash).</br>\n",
    "\n",
    "Python usa l’indentazione per esprimere la struttura dei blocchi di un programma, quindi, un blocco è un insieme di linee contigue tutte indentate della stessa quantità.</br>\n",
    "\n",
    "<div class=\"alert alert-warning\">\n",
    "    Nell’indentazione è bene non mischiare spazi e tab, è raccomandato l’utilizzo di 4 spazi, gli IDE di solito traducono tab in 4 spazi.\n",
    "</div>\n",
    "---- &#8702; 4 spazi\n"
   ]
  },
  {
   "cell_type": "markdown",
   "id": "46525206-831c-445c-86ec-02c17872df43",
   "metadata": {},
   "source": [
    "## Charset - Tokens\n",
    "\n",
    "In Python 3 i file sorgenti sono “encodati” in **UTF-8**. L’encoding è un problema tipico soprattutto quando si lavora su file in ambiente Windows, dove l’encoding di default è **iso-8859-1**.</br>\n",
    "\n",
    "In Python ogni linea logica è una sequenza di componenti lessicali noti come tokens, questi sono *identifiers, keywords, operators, delimiters, literals*.\n",
    "\n",
    "- **indentifiers:**\n",
    "    </br>nome usato per speciﬁcare una variabile, funzione, classe, modulo o altro oggetto. Inizia con una lettera o un underscore <code>_</code> seguito da 0 o più lettere, underscore o cifre; **_Case matter!_**\n",
    "\n",
    "- **keywords:**\n",
    "    </br>identiﬁcatori riservati per uso sintattico \n",
    "    <code>and, as, assert, break, class, continue, def, del, elif, else, False, ﬁnally, for, from, global, if, import, in, is, lambda, None, nonlocal, not, or, pass, raise, return, True, try, while, with, yield</code>\n",
    "\n",
    "- **operatos**\n",
    "    </br><code> + - * / % ** // << >> & | ^ ~ < <= > >= <> != ==</code>\n",
    "\n",
    "- **delimiters**\n",
    "    </br><code> ( ) [ ] { } , : . ` = ; @ += -= *= /= //= %= &= |= ^= >>= <<= **= </code>\n",
    "    </br><code> ' </code> e <code> \" </code> circondano *literals* di tipo stringa\n",
    "    </br><code> # </code> fuori da una stringa inizia un commento\n",
    "    </br><code> / </code> alla ﬁne di una linea ﬁsica unisce la successiva in un’unica linea logica\n",
    "    \n",
    "- **literals**\n",
    "    </br>In un programma si tratta della denotazione di un dato (*numero, string, contenitore*)\n",
    "    "
   ]
  },
  {
   "cell_type": "code",
   "execution_count": 1,
   "id": "ffefc212-c643-4e0a-9f4a-f13254527b46",
   "metadata": {},
   "outputs": [
    {
     "data": {
      "text/plain": [
       "42"
      ]
     },
     "execution_count": 1,
     "metadata": {},
     "output_type": "execute_result"
    }
   ],
   "source": [
    "42 # Integer literal"
   ]
  },
  {
   "cell_type": "code",
   "execution_count": 2,
   "id": "52086d9f-4dc9-4dd3-b5ac-b6ade4c4a9b1",
   "metadata": {},
   "outputs": [
    {
     "data": {
      "text/plain": [
       "1j"
      ]
     },
     "execution_count": 2,
     "metadata": {},
     "output_type": "execute_result"
    }
   ],
   "source": [
    "1.0j # Imaginary literal"
   ]
  },
  {
   "cell_type": "code",
   "execution_count": 3,
   "id": "fac5fb83-af5f-42ea-ad14-a0d994125a87",
   "metadata": {},
   "outputs": [
    {
     "data": {
      "text/plain": [
       "' Good\\n\\nnight'"
      ]
     },
     "execution_count": 3,
     "metadata": {},
     "output_type": "execute_result"
    }
   ],
   "source": [
    "\"\"\" Good\n",
    "...\n",
    "night\"\"\" # Triple-quoted string level"
   ]
  },
  {
   "cell_type": "code",
   "execution_count": 4,
   "id": "0a0055e6-ecb1-46f7-9084-3d0f6552e0c1",
   "metadata": {},
   "outputs": [
    {
     "data": {
      "text/plain": [
       "[1, 2, 3]"
      ]
     },
     "execution_count": 4,
     "metadata": {},
     "output_type": "execute_result"
    }
   ],
   "source": [
    "[1, 2, 3] #list"
   ]
  },
  {
   "cell_type": "markdown",
   "id": "1ea99aea-2ae3-4a02-bd26-b5ecdc087d3e",
   "metadata": {},
   "source": [
    "## Tipi di Dato\n",
    "### Variabili\n",
    "Python è object oriented e con tipizzazione dinamica delle variabili (queste sono però strettamente tipizzate). Non è necessario dichiarare le variabili prima di usarle né dichiarare il loro tipo. Ogni variabile in Python è un’istanza di una classe che si può assegnare a un identificatore.\n",
    "\n",
    "<code>my_var = 42</code>\n",
    "</br><code>my_var</code> &#8702; identificatore\n",
    "</br><code>42</code> &#8702; istanza della classe **INT**\n"
   ]
  },
  {
   "cell_type": "code",
   "execution_count": 5,
   "id": "4ea01c44-3d93-423d-8296-f66957739890",
   "metadata": {},
   "outputs": [],
   "source": [
    "my_var = 42"
   ]
  },
  {
   "cell_type": "markdown",
   "id": "9724f647-38d3-46d1-8cb8-894761d3984a",
   "metadata": {},
   "source": [
    "## Numeri\n",
    "\n",
    "I principali *“tipi”* di numero che Python supporta sono numeri interi e numeri in virgola mobile (supporta anche i numeri complessi).\n",
    "</br>La built-in function <code>type()</code> ritorna il tipo di oggetto."
   ]
  },
  {
   "cell_type": "code",
   "execution_count": 6,
   "id": "dffb7d26-0b99-460f-8310-ccee0a74a57a",
   "metadata": {},
   "outputs": [
    {
     "data": {
      "text/plain": [
       "int"
      ]
     },
     "execution_count": 6,
     "metadata": {},
     "output_type": "execute_result"
    }
   ],
   "source": [
    "type(3) # Check istanza"
   ]
  },
  {
   "cell_type": "code",
   "execution_count": 7,
   "id": "f32fb140-986a-41ae-a2a7-e565e565234c",
   "metadata": {},
   "outputs": [
    {
     "data": {
      "text/plain": [
       "int"
      ]
     },
     "execution_count": 7,
     "metadata": {},
     "output_type": "execute_result"
    }
   ],
   "source": [
    "x = 3\n",
    "type(x) # Check istanza assegnata a identificatore"
   ]
  },
  {
   "cell_type": "code",
   "execution_count": 8,
   "id": "547268e0-bfad-4ad8-a642-252db06fd9bd",
   "metadata": {},
   "outputs": [
    {
     "data": {
      "text/plain": [
       "int"
      ]
     },
     "execution_count": 8,
     "metadata": {},
     "output_type": "execute_result"
    }
   ],
   "source": [
    "y = int('3')\n",
    "type(y) # Check istanza creata con costruttore"
   ]
  },
  {
   "cell_type": "code",
   "execution_count": 9,
   "id": "e2ac38c5-e0dc-45bc-a788-0f5c1628194d",
   "metadata": {},
   "outputs": [
    {
     "data": {
      "text/plain": [
       "float"
      ]
     },
     "execution_count": 9,
     "metadata": {},
     "output_type": "execute_result"
    }
   ],
   "source": [
    "type(1.5) # Check istanza"
   ]
  },
  {
   "cell_type": "code",
   "execution_count": 10,
   "id": "090d97ae-79c1-418e-a658-b0c60f18a9c6",
   "metadata": {},
   "outputs": [
    {
     "data": {
      "text/plain": [
       "float"
      ]
     },
     "execution_count": 10,
     "metadata": {},
     "output_type": "execute_result"
    }
   ],
   "source": [
    "x = 1.5\n",
    "type(x) # Check istanza assegnata a identificatore"
   ]
  },
  {
   "cell_type": "code",
   "execution_count": 11,
   "id": "a340b406-93da-4f29-8419-ea4e5c8097f4",
   "metadata": {},
   "outputs": [
    {
     "data": {
      "text/plain": [
       "float"
      ]
     },
     "execution_count": 11,
     "metadata": {},
     "output_type": "execute_result"
    }
   ],
   "source": [
    "y = float('1.5')\n",
    "type(y) # Check istanza creata con costruttore"
   ]
  },
  {
   "cell_type": "markdown",
   "id": "e6ac5d16-4c44-4221-8615-6926457befa8",
   "metadata": {},
   "source": [
    "L'interprete si comporta come una semplice **calcolatrice**, è possibile scrivere un'espressione e l’interprete restituirà il valore della stessa. La sintassi dell'espressione è semplice e gli operatori <code>+, -, *, /</code> funzionano esattamente come nella maggior parte degli altri linguaggi; \n",
    "</br>le parentesi <code>( )</code> possono essere utilizzate per il raggruppamento.\n",
    "\n",
    "<div class=\"alert alert-warning\">\n",
    "   Python rispetta l'ordine convenzionale delle operazioni.\n",
    "</div>"
   ]
  },
  {
   "cell_type": "code",
   "execution_count": 12,
   "id": "8a328c06-5bb4-4917-875b-063a88dc1017",
   "metadata": {},
   "outputs": [
    {
     "data": {
      "text/plain": [
       "4"
      ]
     },
     "execution_count": 12,
     "metadata": {},
     "output_type": "execute_result"
    }
   ],
   "source": [
    "2+2"
   ]
  },
  {
   "cell_type": "code",
   "execution_count": 13,
   "id": "5b204b39-1ab0-4140-ae76-35e710fa3775",
   "metadata": {},
   "outputs": [
    {
     "data": {
      "text/plain": [
       "20"
      ]
     },
     "execution_count": 13,
     "metadata": {},
     "output_type": "execute_result"
    }
   ],
   "source": [
    "50 - 5 * 6"
   ]
  },
  {
   "cell_type": "code",
   "execution_count": 14,
   "id": "ffe8a356-3c6a-44dd-87f2-4a326a75cccb",
   "metadata": {},
   "outputs": [
    {
     "data": {
      "text/plain": [
       "3.3333333333333335"
      ]
     },
     "execution_count": 14,
     "metadata": {},
     "output_type": "execute_result"
    }
   ],
   "source": [
    "(50 - 5 * 6) / 6"
   ]
  },
  {
   "cell_type": "code",
   "execution_count": 15,
   "id": "aedfb5e2-6088-4f0e-86f4-14200aeab45a",
   "metadata": {},
   "outputs": [
    {
     "data": {
      "text/plain": [
       "2.0"
      ]
     },
     "execution_count": 15,
     "metadata": {},
     "output_type": "execute_result"
    }
   ],
   "source": [
    "4 / 2 # La divisione ritorna sempre il numero in virgola mobile"
   ]
  },
  {
   "cell_type": "markdown",
   "id": "d00426d6-2f16-4193-9223-596f88b4689f",
   "metadata": {},
   "source": [
    "## None - Bool\n",
    "\n",
    "- **None**\n",
    "    </br>None è l’unica istanza della classe *NoneType*, può essere utilizzato come valore nullo da assegnare ad un identiﬁcatore (in altri linguaggi si utilizza la keyword </code>null</code>) ed è il valore restituito di default dalle funzioni"
   ]
  },
  {
   "cell_type": "code",
   "execution_count": 16,
   "id": "a2682905-dfc5-4a48-be7b-82c4d9793211",
   "metadata": {},
   "outputs": [
    {
     "data": {
      "text/plain": [
       "NoneType"
      ]
     },
     "execution_count": 16,
     "metadata": {},
     "output_type": "execute_result"
    }
   ],
   "source": [
    "x = None\n",
    "type(x)"
   ]
  },
  {
   "cell_type": "code",
   "execution_count": 17,
   "id": "2c3f78b9-0923-42e8-b943-09a424603be7",
   "metadata": {},
   "outputs": [
    {
     "name": "stdout",
     "output_type": "stream",
     "text": [
      "None\n"
     ]
    }
   ],
   "source": [
    "def no_return():\n",
    "    pass\n",
    "\n",
    "print(no_return())"
   ]
  },
  {
   "cell_type": "markdown",
   "id": "196fb239-1c56-4ef5-b320-668017573325",
   "metadata": {},
   "source": [
    "- **Bool**\n",
    "    </br>La classe *bool* viene utilizzata per manipolare i valori logici (booleani) e le uniche due istanze di quella classe sono <code>True</code> e <code>False</code>. \n",
    "    </br><code>True</code> equivale a $1$\n",
    "    </br><code>False</code> equivale a $0$"
   ]
  },
  {
   "cell_type": "code",
   "execution_count": 18,
   "id": "0a85b436-78d4-4850-ab16-eeb4ecb05835",
   "metadata": {},
   "outputs": [
    {
     "data": {
      "text/plain": [
       "bool"
      ]
     },
     "execution_count": 18,
     "metadata": {},
     "output_type": "execute_result"
    }
   ],
   "source": [
    "type(True)"
   ]
  },
  {
   "cell_type": "code",
   "execution_count": 19,
   "id": "4fc4c3d9-a7a9-4322-927c-fac7fd4352ef",
   "metadata": {},
   "outputs": [
    {
     "data": {
      "text/plain": [
       "bool"
      ]
     },
     "execution_count": 19,
     "metadata": {},
     "output_type": "execute_result"
    }
   ],
   "source": [
    "type(False)"
   ]
  },
  {
   "cell_type": "code",
   "execution_count": 20,
   "id": "3deadba9-4649-426b-b653-320fab522ebb",
   "metadata": {},
   "outputs": [
    {
     "data": {
      "text/plain": [
       "True"
      ]
     },
     "execution_count": 20,
     "metadata": {},
     "output_type": "execute_result"
    }
   ],
   "source": [
    "True == 1 and False == 0"
   ]
  },
  {
   "cell_type": "code",
   "execution_count": 21,
   "id": "8666fff8-ccb1-4489-9280-a0a457401098",
   "metadata": {},
   "outputs": [
    {
     "data": {
      "text/plain": [
       "0"
      ]
     },
     "execution_count": 21,
     "metadata": {},
     "output_type": "execute_result"
    }
   ],
   "source": [
    "(True + 3) * False"
   ]
  },
  {
   "cell_type": "markdown",
   "id": "fbc583e8-3555-4520-ad14-b972c396276b",
   "metadata": {},
   "source": [
    "## Stringhe\n",
    "Le stringhe sono sequenze immutabili di caratteri testuali sulle quali è possibile iterare; queste possono essere deﬁnite indiﬀerentemente con *single quote* <code>‘ ‘</code> o con le *double quote* <code>“ “</code>. "
   ]
  },
  {
   "cell_type": "code",
   "execution_count": 22,
   "id": "50f33579-be69-4f50-aba8-5e0980ed9525",
   "metadata": {},
   "outputs": [
    {
     "data": {
      "text/plain": [
       "True"
      ]
     },
     "execution_count": 22,
     "metadata": {},
     "output_type": "execute_result"
    }
   ],
   "source": [
    "\"hello\" == 'hello' # Stessa stringa definita con single e double quote"
   ]
  },
  {
   "cell_type": "code",
   "execution_count": 23,
   "id": "7aae77f5-df2d-4b21-9bfa-334d6e04f4b7",
   "metadata": {},
   "outputs": [
    {
     "name": "stdout",
     "output_type": "stream",
     "text": [
      "hello\n"
     ]
    }
   ],
   "source": [
    "print('hello') # Funzione built-in che visualizza la stringa sul file del flusso di teso"
   ]
  },
  {
   "cell_type": "code",
   "execution_count": 24,
   "id": "f1b8224c-d739-4389-bb36-b70ae6064ed0",
   "metadata": {},
   "outputs": [
    {
     "name": "stdout",
     "output_type": "stream",
     "text": [
      "h\n",
      "e\n",
      "l\n",
      "l\n",
      "o\n"
     ]
    }
   ],
   "source": [
    "for letter in 'hello': # Iterazione su una stringa con for-loop\n",
    "    print(letter)"
   ]
  },
  {
   "cell_type": "markdown",
   "id": "1f802024-695e-43ad-8a32-53e7a2b9a104",
   "metadata": {},
   "source": [
    "### Funzione <code>print()</code>\n",
    "La funzione <code>print()</code> permette di stampare oggetti in output (tipicamente su schermo, ma anche su ﬁle o altri stream). \n",
    "</br>Gli oggetti inseriti nella funzione vengono convertiti in stringhe e scritti sullo stream. \n",
    "</br>È possibile inserire espressioni matematiche, variabili ed altro all’interno di print e il risultato sarà stampato."
   ]
  },
  {
   "cell_type": "code",
   "execution_count": 25,
   "id": "94eefaa3-fb52-4ff3-a8e0-c998b9b20f7f",
   "metadata": {},
   "outputs": [
    {
     "name": "stdout",
     "output_type": "stream",
     "text": [
      "Python print function\n"
     ]
    }
   ],
   "source": [
    "print(\"Python print function\") # Stampa di una stringa"
   ]
  },
  {
   "cell_type": "code",
   "execution_count": 26,
   "id": "1d67f59a-9624-435e-9f16-80f041b56d95",
   "metadata": {},
   "outputs": [
    {
     "name": "stdout",
     "output_type": "stream",
     "text": [
      "10\n"
     ]
    }
   ],
   "source": [
    "print(3+7) # Stampa del risultato di un'espressione algebrica"
   ]
  },
  {
   "cell_type": "code",
   "execution_count": 27,
   "id": "56807729-605e-4d67-9754-2dd4e6850e72",
   "metadata": {},
   "outputs": [
    {
     "name": "stdout",
     "output_type": "stream",
     "text": [
      "string\n"
     ]
    }
   ],
   "source": [
    "a = 'string'\n",
    "print(a) # Stampa del valore di una variabile"
   ]
  },
  {
   "cell_type": "markdown",
   "id": "09cbe1fe-8f74-4899-9907-6a6c0a73c392",
   "metadata": {},
   "source": [
    "<code>print()</code> ha diversi parametri, tra i più comunemente usati si deve sicuramente menzionare *end*.\n",
    ">*end* &#8702; il valore di default è <code>\\n</code> (escape sequence: new line), si può sostituire con qualsiasi stringa."
   ]
  },
  {
   "cell_type": "code",
   "execution_count": 28,
   "id": "cbec0c02-1d51-4b60-b48d-2cbe33eb817c",
   "metadata": {},
   "outputs": [
    {
     "name": "stdout",
     "output_type": "stream",
     "text": [
      "prima riga\n",
      "seconda riga \tsempre seconda riga\ttab!\n",
      "\n",
      "terza riga\t...fine terza riga\n"
     ]
    }
   ],
   "source": [
    "print(\"prima riga\")              # end = default('\\n')\n",
    "print(\"seconda riga\", end = ' ') # end = ' ', evita di creare una new line\n",
    "print(\"\\tsempre seconda riga\", end = '\\ttab!\\n') # Stampa sulla stessa riga della precedente\n",
    "print() # Nessun oggetto, stampa una new line\n",
    "print(\"terza riga\", end = \"\\t...fine terza riga\\n\")"
   ]
  },
  {
   "cell_type": "markdown",
   "id": "6906334d-fd6f-47ee-994a-b1df058b22db",
   "metadata": {},
   "source": [
    "### Slicing\n",
    "Python oﬀre una notazione chiamata *slicing* (to slice = aﬀettare) che permette di accedere ad una serie di elementi di una sequenza ordinata (stringa, lista, etc.) attraverso il loro *index* (indice). Il primo elemento corrispondente ha index $0$, il secondo $1$ e così via.\n",
    "\n",
    "La sintassi utilizza le parentesi quadre con i seguenti parametri: <code>[{start}: stop {: step}]</code>\n",
    "- **start** &#8702; indice di partenza *[opzionale]*, 0 di defualt.\n",
    "    </br>Es. <code>\"casa\"[:3] == \"cas\"</code>\n",
    "  \n",
    "- **stop** &#8702; indice di arrivo NON compreso, se non specificato, lo slicing arriva fino alla fine dell’oggetto.\n",
    "    </br>Es. <code>\"casa\" [2:] == \"sa\"</code>\n",
    "    \n",
    "    \n",
    "- **step** &#8702; differenza di index tra un elemento e il successivo *[opzionale]*, 1 di default (tutti gli elementi compresi tra **start** e **stop** *[non compreso]*)\n",
    "    </br>Es. <code>\"abcdefg\"[0:5:2] == \"ace\"</code>\n"
   ]
  },
  {
   "cell_type": "code",
   "execution_count": 29,
   "id": "67d82ff9-9856-4ad4-9a99-24e381e0fd5f",
   "metadata": {},
   "outputs": [
    {
     "data": {
      "text/plain": [
       "'cas'"
      ]
     },
     "execution_count": 29,
     "metadata": {},
     "output_type": "execute_result"
    }
   ],
   "source": [
    " \"casa\"[:3]"
   ]
  },
  {
   "cell_type": "code",
   "execution_count": 30,
   "id": "052e964d-fe30-4d16-8e13-e620761758eb",
   "metadata": {},
   "outputs": [
    {
     "data": {
      "text/plain": [
       "'sa'"
      ]
     },
     "execution_count": 30,
     "metadata": {},
     "output_type": "execute_result"
    }
   ],
   "source": [
    "\"casa\" [2:]"
   ]
  },
  {
   "cell_type": "code",
   "execution_count": 31,
   "id": "7e95f81d-023d-4323-8faa-9f0cf2750507",
   "metadata": {},
   "outputs": [
    {
     "data": {
      "text/plain": [
       "'ace'"
      ]
     },
     "execution_count": 31,
     "metadata": {},
     "output_type": "execute_result"
    }
   ],
   "source": [
    "\"abcdefg\"[0:5:2]"
   ]
  },
  {
   "cell_type": "markdown",
   "id": "ba093abc-b281-46c7-9da8-2cecb43a3d9a",
   "metadata": {},
   "source": [
    "#### *Esempio:*"
   ]
  },
  {
   "cell_type": "code",
   "execution_count": 32,
   "id": "df059c2f-4d8c-4397-b62b-e9afa85adfcb",
   "metadata": {},
   "outputs": [
    {
     "data": {
      "text/plain": [
       "'S'"
      ]
     },
     "execution_count": 32,
     "metadata": {},
     "output_type": "execute_result"
    }
   ],
   "source": [
    "s = \"Slicing test\"\n",
    "s[0] # Accesso ad un singolo elemento"
   ]
  },
  {
   "cell_type": "code",
   "execution_count": 33,
   "id": "7f2e50b0-f0a8-40ea-a436-0333d97b042e",
   "metadata": {},
   "outputs": [
    {
     "data": {
      "text/plain": [
       "'t'"
      ]
     },
     "execution_count": 33,
     "metadata": {},
     "output_type": "execute_result"
    }
   ],
   "source": [
    "s[-1] # Accesso ad un singolo elemento (index negativo)"
   ]
  },
  {
   "cell_type": "code",
   "execution_count": 34,
   "id": "38df2ccd-e15e-4ac7-9f93-374538d9cc01",
   "metadata": {},
   "outputs": [
    {
     "data": {
      "text/plain": [
       "'Slic'"
      ]
     },
     "execution_count": 34,
     "metadata": {},
     "output_type": "execute_result"
    }
   ],
   "source": [
    "s[:4] # Slice dall'inizio all'elemento con index 4 (non compreso)"
   ]
  },
  {
   "cell_type": "code",
   "execution_count": 35,
   "id": "e6cc99d8-b6db-4e04-b441-371de6a456ac",
   "metadata": {},
   "outputs": [
    {
     "data": {
      "text/plain": [
       "'Siigts'"
      ]
     },
     "execution_count": 35,
     "metadata": {},
     "output_type": "execute_result"
    }
   ],
   "source": [
    "s[::2] # Slice di tutti gli elemnti con index pari"
   ]
  },
  {
   "cell_type": "code",
   "execution_count": 36,
   "id": "e6c53f47-4d65-465a-9fee-4a9c643ed3df",
   "metadata": {},
   "outputs": [
    {
     "data": {
      "text/plain": [
       "'tset gnicilS'"
      ]
     },
     "execution_count": 36,
     "metadata": {},
     "output_type": "execute_result"
    }
   ],
   "source": [
    "s[::-1] # Steo negativo per scorrere l'oggetto in senso inverso"
   ]
  },
  {
   "cell_type": "markdown",
   "id": "70e96db3-e8bb-4a6a-bbc5-bf839dbefead",
   "metadata": {},
   "source": [
    "## Operatori\n",
    "* Gli **_operatori_**:\n",
    "    - sono utilizzati per eseguire operazioni su valori e variabili\n",
    "    - possono manipolare singoli oggetti e restituire un risultato\n",
    "    - sono rappresentati da parole chiave o caratteri speciali\n",
    "* Gli **_elementi_** coinvolti sono indicati come *operandi* o *arguments*.\n",
    "\n",
    "### Operatori Aritmetici\n",
    "Gli operatori aritmetici sono usati con valori numerici per eseguire operazioni matematiche comuni.\n",
    "| Operatore | Nome | Esempio |\n",
    "|:----------|:-----|:--------|\n",
    "| <code>+</code> | Addizione | <code>3 + 2 = 5</code> |\n",
    "| <code>-</code> | Sottrazione | <code>3 - 2 = 1</code> |\n",
    "| <code>*</code> | Moltiplicazione | <code>3 * 2 = 6</code> |\n",
    "| <code>/</code> | Divisione | <code>3 / 2 = 1.5</code> |\n",
    "| <code>//</code> | Floor Division | <code>3 // 2 = 1</code> |\n",
    "| <code>%</code> | Modulo (restituisce il resto) | <code>3 % 2 = 1</code> |\n",
    "| <code>**</code> | Potenza | <code>3 ** 2 = 9</code> |\n",
    "\n",
    "### Operatori di Assegnamento\n",
    "Gli operatori di assegnamento (*augmented assignment*) sono utilizzati per assegnare istanze agli identiﬁcatori.\n",
    "| Operatore | Nome | Esempio | Uguale a |\n",
    "|:----------|:-----|:--------|:---------|\n",
    "| <code>=</code> | Uguaglianza | <code>x = 5</code> | <code>x = 5</code>|\n",
    "| <code>+=</code> | Addizione | <code>x += 5</code> | <code>x = x + 5</code> |\n",
    "| <code>-=</code> | Sottrazione | <code>x -= 5</code> | <code>x = x - 5</code> |\n",
    "| <code>*=</code> | Moltiplicazione | <code>x *= 5</code> | <code>x = x * 5</code> |\n",
    "| <code>/=</code> | Divisione | <code>x /= 5</code> | <code>x = x / 5</code> |\n",
    "| <code>//=</code> | Floor Division | <code>x //= 5</code> | <code>x = x // 5</code> |\n",
    "| <code>%=</code> | Modulo (restituisce il resto) | <code>x %= 5</code> | <code>x = x % 5</code> |\n",
    "| <code>**=</code> | Potenza | <code>x **= 5</code> | <code>x = x ** 5</code> |\n",
    "\n",
    "### Operatori di Confronto\n",
    "Gli operatori di confronto sono utilizzati per comparare due valori.\n",
    "| Operatore | Nome | Esempio |\n",
    "|:----------|:-----|:--------|\n",
    "| <code>==</code> | Uguale | <code>x == y</code> |\n",
    "| <code>!=</code> | Non uguale | <code>x != y</code> |\n",
    "| <code>></code> | Maggiore di | <code>x > y</code> |\n",
    "| <code><</code> | Minore di | <code>x < y</code> |\n",
    "| <code>>=</code> | Maggiore/Uguale | <code>x >= y</code> |\n",
    "| <code><=</code> | Minore/Uguale | <code>x <= y</code> |\n",
    "    \n",
    "A diﬀerenza di altri linguaggi, Python oﬀre la possibilità di concatenare gli operatori di confronto:\n",
    "    \n",
    "**_Esempio:_**\n",
    "</br>Prediamo in considerazione la condizone: <code>a < b < c</code>\n",
    "</br>La sintassi più comune è: <code>a < b and b < c</code>\n",
    "</br>Python offre la possibilità di scrivere direttamente <code>a < b < c</code>.\n"
   ]
  },
  {
   "cell_type": "code",
   "execution_count": 37,
   "id": "7a3098aa-6ae0-41d7-aeb2-92edd16f6b8e",
   "metadata": {},
   "outputs": [
    {
     "data": {
      "text/plain": [
       "True"
      ]
     },
     "execution_count": 37,
     "metadata": {},
     "output_type": "execute_result"
    }
   ],
   "source": [
    "2 < 5 and 5 < 7"
   ]
  },
  {
   "cell_type": "code",
   "execution_count": 38,
   "id": "b77fe7d4-214b-4380-94d5-d3aaa8907327",
   "metadata": {},
   "outputs": [
    {
     "data": {
      "text/plain": [
       "True"
      ]
     },
     "execution_count": 38,
     "metadata": {},
     "output_type": "execute_result"
    }
   ],
   "source": [
    "2 < 5 < 7"
   ]
  },
  {
   "cell_type": "code",
   "execution_count": 39,
   "id": "fd67af2a-4223-4d43-821a-ce21cdf53b38",
   "metadata": {},
   "outputs": [
    {
     "data": {
      "text/plain": [
       "False"
      ]
     },
     "execution_count": 39,
     "metadata": {},
     "output_type": "execute_result"
    }
   ],
   "source": [
    "2 < 5 < 4"
   ]
  },
  {
   "cell_type": "markdown",
   "id": "8e5dc3e8-f161-4170-a226-cb5000351180",
   "metadata": {},
   "source": [
    "### Operatori Logici\n",
    "Gli operatori logici sono utilizzati per combinare dichiarazioni condizionali.\n",
    "| Operatore | Descrizione | Esempio |\n",
    "|:----------|:------------|:--------|\n",
    "| <code>and</code> | Ritorna <code>True</code> se entrambe le dichiarazioni sono vere | <code>x < 5 and x < 10</code> |\n",
    "| <code>or</code> | Ritorna <code>True</code> se una delle due dichiarazioni è vera | <code>x < 5 or x < 4</code> |\n",
    "| <code>not</code> | Inverte il risultato, riotrna <code>False</code> se il risultato è vero | <code>not x > 5</code> |\n",
    "\n",
    "### Operatori di Identità\n",
    "Gli operatori di identità sono usati per confrontare gli oggetti, non per veriﬁcare se i valori sono uguali, ma se sono lo stesso oggetto (che occupa la stessa locazione nella memoria).\n",
    "| Operatore | Descrizione | Esempio |\n",
    "|:----------|:------------|:--------|\n",
    "| <code>is</code> | Ritorna <code>True</code> se gli oggetti confrontati SONO lo stesso oggetto | <code>x is y</code> |\n",
    "| <code>is not</code> | Ritorna <code>True</code> se gli oggetti comparati NON SONO lo stesso oggetto | <code>x is not y</code> |\n",
    "\n",
    "### Operatori di Appartenenza\n",
    "Gli operatori di appartenenza controllano l’appartenenza di un oggetto ad una sequenza come una *lista*, una *stringa* o una *tupla*.\n",
    "</br>| Operatore | Descrizione | Esempio |\n",
    "</br>|:----------|:------------|:--------|\n",
    "</br>| <code>in</code> | Ritorna <code>True</code> se un oggetto con un determinato valore è presente nella sequenza | <code>x in y</code> |\n",
    "</br>| <code>not in</code> | Ritorna <code>True</code> se un oggetto con un determinato valore NON è presente nella sequenza | <code>x not in y</code>"
   ]
  },
  {
   "cell_type": "markdown",
   "id": "c3048770-da1f-45b2-828b-ffd669c8f9ad",
   "metadata": {},
   "source": [
    "## Dichiarazioni Condizionali\n",
    "I costrutti condizionali forniscono un modo per eseguire un blocco di codice scelto in base alla valutazione in fase di esecuzione di una o più espressioni booleane.\n",
    "\n",
    "<div class=\"alert alert-warning\">\n",
    "    A diﬀerenza di altri linguaggi, Python si basa su l'indentazione, usando 4 spazi, per deﬁnire i blocchi di codice.\n",
    "</div>\n",
    "\n",
    "    if condizione:\n",
    "    ----primo_blocco\n",
    "      ↳ 4 spazi\n",
    "        \n",
    "    if prima condizione:\n",
    "        primo_blocco\n",
    "    elif seconda condizione:\n",
    "        secondo_blocco\n",
    "    elif terza condizione:\n",
    "        terzo_blocco\n",
    "    else:\n",
    "        quarto_blocco\n",
    "        \n",
    "## Loop\n",
    "Python utilizza due tipi di *loop*:\n",
    "* <code>while</code>\n",
    "* <code>for</code>\n",
    "\n",
    "### <code>while</code> Loop\n",
    "Il *while loop* esegue un blocco di codice fintanto che una condizione è vera."
   ]
  },
  {
   "cell_type": "code",
   "execution_count": 40,
   "id": "22c12124-7c4b-4820-a461-0e05bde5834a",
   "metadata": {},
   "outputs": [
    {
     "name": "stdout",
     "output_type": "stream",
     "text": [
      "1\n",
      "2\n",
      "3\n",
      "4\n",
      "5\n"
     ]
    }
   ],
   "source": [
    "i = 1\n",
    "\n",
    "while i < 6:\n",
    "    print(i)\n",
    "    i += 1 # IMPORTANTE!"
   ]
  },
  {
   "cell_type": "markdown",
   "id": "80c290f1-2c7f-4112-ab65-c0ea9261e28d",
   "metadata": {},
   "source": [
    "<div class=\"alert alert-warning\">\n",
    "    <strong>IMPORTANTE!</strong> incrementare <code>i</code> evita di creare un loop infinito.\n",
    "</div>\n",
    "\n",
    "### <code>for</code> Loop\n",
    "Il *for loop* è uno strumento utile per iterare su una *serie* di elementi. La sintassi del *for loop* può essere usata su qualsiasi struttura iterabile (*liste, tuple, stringhe, set, dizionari, file*).\n",
    "\n",
    "<code>primes = [2, 3, 5, 7]</code> &#8594; Struttura iterbaile (*lista*) con identificatore <code>primes</code>\n",
    "\n",
    "\n",
    "<code>for prime in primes:</code> &#8594; <code>prime</code> è l'identificatore assegnato ad ogni passaggio al rispettivo elemento\n",
    "</br><code>    print(prime)</code>\n",
    "</br>&nbsp;&nbsp;&nbsp;&nbsp;&nbsp;&nbsp;&nbsp;&nbsp;&nbsp;&nbsp;&nbsp;&nbsp;&nbsp;&nbsp;&nbsp;\n",
    "&#8627;Il blocco di codice viene eseguito una volta per ciascun elemento dell'oggetto iterabile"
   ]
  },
  {
   "cell_type": "code",
   "execution_count": 41,
   "id": "278d3927-2c38-4713-a44f-2636251f86a5",
   "metadata": {},
   "outputs": [
    {
     "name": "stdout",
     "output_type": "stream",
     "text": [
      "2\n",
      "3\n",
      "5\n",
      "7\n"
     ]
    }
   ],
   "source": [
    "primes = [2, 3, 5, 7] \n",
    "\n",
    "for prime in primes:\n",
    "    print(prime)\n",
    "    "
   ]
  },
  {
   "cell_type": "markdown",
   "id": "1174245d-684c-4bf6-9b45-f0ee8ddba50b",
   "metadata": {},
   "source": [
    "###  <code>break</code> - <code>continue</code>\n",
    "\n",
    "#### <code>break</code>\n",
    "La keyword *break* viene usata per sucire da un *for loop* o un *while loop* anche se l'iterazione sugli elementi non è finita o anche se la condizione è rispettata."
   ]
  },
  {
   "cell_type": "code",
   "execution_count": 45,
   "id": "0ed69893-03af-483c-a3d7-c554a13a4843",
   "metadata": {},
   "outputs": [
    {
     "name": "stdout",
     "output_type": "stream",
     "text": [
      "0\n",
      "1\n",
      "2\n",
      "3\n",
      "4\n"
     ]
    }
   ],
   "source": [
    "i = 0\n",
    "\n",
    "while i < 7:\n",
    "    if i == 5:\n",
    "        break\n",
    "    print(i)\n",
    "    i += 1"
   ]
  },
  {
   "cell_type": "markdown",
   "id": "e6baddb5-44fe-4415-8286-6d6a7fc51651",
   "metadata": {},
   "source": [
    "#### <code>continue</code>\n",
    "La keyword *continue* viene usata per saltare il blocco corrente di codice e tornare alla dichiarazione del *for loop* o *while loop*."
   ]
  },
  {
   "cell_type": "code",
   "execution_count": 46,
   "id": "8ca9cd22-49a8-444f-bee7-b5bfcdcfd350",
   "metadata": {},
   "outputs": [
    {
     "name": "stdout",
     "output_type": "stream",
     "text": [
      "c\n",
      "a\n",
      "s\n",
      "a\n"
     ]
    }
   ],
   "source": [
    "for l in \"casba\":\n",
    "    if l == \"b\":\n",
    "        continue\n",
    "    print(l)"
   ]
  },
  {
   "cell_type": "markdown",
   "id": "8adb2b3e-ceea-4b6c-b520-0f7275c5e241",
   "metadata": {},
   "source": [
    "## Exception Handling\n",
    "\n"
   ]
  },
  {
   "cell_type": "code",
   "execution_count": null,
   "id": "7e2ca5d0-eeec-4ef9-b9e6-24fac099ee93",
   "metadata": {},
   "outputs": [],
   "source": []
  }
 ],
 "metadata": {
  "kernelspec": {
   "display_name": "Python 3 (ipykernel)",
   "language": "python",
   "name": "python3"
  },
  "language_info": {
   "codemirror_mode": {
    "name": "ipython",
    "version": 3
   },
   "file_extension": ".py",
   "mimetype": "text/x-python",
   "name": "python",
   "nbconvert_exporter": "python",
   "pygments_lexer": "ipython3",
   "version": "3.10.8"
  }
 },
 "nbformat": 4,
 "nbformat_minor": 5
}
